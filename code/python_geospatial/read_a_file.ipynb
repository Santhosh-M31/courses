{
 "cells": [
  {
   "cell_type": "code",
   "execution_count": null,
   "metadata": {},
   "outputs": [],
   "source": [
    "import os"
   ]
  },
  {
   "cell_type": "code",
   "execution_count": null,
   "metadata": {},
   "outputs": [],
   "source": [
    "home_dir = os.path.expanduser('~')\n",
    "print(home_dir)"
   ]
  },
  {
   "cell_type": "code",
   "execution_count": null,
   "metadata": {},
   "outputs": [],
   "source": [
    "filename = 'worldcities.csv'\n",
    "folder = 'Downloads/python_geospatial/'\n",
    "path = os.path.join(home_dir, folder, filename)\n",
    "print(path)"
   ]
  },
  {
   "cell_type": "code",
   "execution_count": null,
   "metadata": {},
   "outputs": [],
   "source": [
    "f = open(path, 'r')\n",
    "print(f.readline())\n",
    "print(f.readline())\n",
    "f.close()"
   ]
  },
  {
   "cell_type": "code",
   "execution_count": null,
   "metadata": {},
   "outputs": [],
   "source": [
    "f = open(path, 'r')\n",
    "lines = f.readlines()\n",
    "print('Total Lines: {} \\n'.format(len(lines)))\n",
    "for line in lines[:5]:\n",
    "    print(line)\n",
    "f.close()"
   ]
  },
  {
   "cell_type": "code",
   "execution_count": null,
   "metadata": {},
   "outputs": [],
   "source": [
    "import csv\n",
    "\n",
    "with open(path, 'r') as f:\n",
    "    csv_reader = csv.DictReader(f)\n",
    "    print(csv_reader)\n"
   ]
  },
  {
   "cell_type": "code",
   "execution_count": null,
   "metadata": {},
   "outputs": [],
   "source": [
    "import csv\n",
    "\n",
    "with open(path, 'r') as f:\n",
    "    csv_reader = csv.DictReader(f)\n",
    "    print(next(csv_reader))\n",
    "    print(csv_reader.__next__())"
   ]
  },
  {
   "cell_type": "code",
   "execution_count": null,
   "metadata": {},
   "outputs": [],
   "source": [
    "# with open(path, 'r') as f:\n",
    "#     csv_reader = csv.DictReader(f)\n",
    "#     for row in csv_reader:\n",
    "#         print(row)\n",
    "with open(path, 'r') as f:\n",
    "    csv_reader = csv.DictReader(f)\n",
    "    for index, row in enumerate(csv_reader):\n",
    "        print(index, row)\n",
    "        if index == 5:\n",
    "            break"
   ]
  },
  {
   "cell_type": "code",
   "execution_count": null,
   "metadata": {},
   "outputs": [],
   "source": [
    "home_country = 'India'\n",
    "with open(path, 'r') as f:\n",
    "    csv_reader = csv.DictReader(f)\n",
    "    for row in csv_reader:\n",
    "        city = row['city_ascii']\n",
    "        lat = row['lat']\n",
    "        lng = row['lng']\n",
    "        if row['country'] == home_country:\n",
    "            print('{},{},{}'.format(city, lat, lng))"
   ]
  },
  {
   "cell_type": "code",
   "execution_count": null,
   "metadata": {},
   "outputs": [],
   "source": [
    "home_city = 'Bengaluru'\n",
    "with open(path, 'r') as f:\n",
    "    csv_reader = csv.DictReader(f)\n",
    "    for row in csv_reader:\n",
    "        if row['city_ascii'] == home_city:\n",
    "            home_city_coords = (float(row['lng']), float(row['lat']))\n",
    "            break\n",
    "print(home_city_coords)\n",
    "        "
   ]
  },
  {
   "cell_type": "code",
   "execution_count": null,
   "metadata": {},
   "outputs": [],
   "source": [
    "%run ./distance.ipynb"
   ]
  },
  {
   "cell_type": "code",
   "execution_count": null,
   "metadata": {},
   "outputs": [],
   "source": [
    "%%time\n",
    "with open(path, 'r') as f:\n",
    "    csv_reader = csv.DictReader(f)\n",
    "    for row in csv_reader:\n",
    "        if row['country'] == 'India':\n",
    "            dest_city_coords = (float(row['lng']), float(row['lat']))\n",
    "            distance = haversine_distance(home_city_coords, dest_city_coords)\n",
    "            print('{},{:.2f} km'.format(row['city_ascii'], distance))\n"
   ]
  }
 ],
 "metadata": {
  "kernelspec": {
   "display_name": "Python 3",
   "language": "python",
   "name": "python3"
  },
  "language_info": {
   "codemirror_mode": {
    "name": "ipython",
    "version": 3
   },
   "file_extension": ".py",
   "mimetype": "text/x-python",
   "name": "python",
   "nbconvert_exporter": "python",
   "pygments_lexer": "ipython3",
   "version": "3.7.6"
  }
 },
 "nbformat": 4,
 "nbformat_minor": 4
}
