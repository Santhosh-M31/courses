{
 "cells": [
  {
   "cell_type": "markdown",
   "metadata": {},
   "source": [
    "# Functions\n",
    "\n",
    "A function is a block of code that takes one or more *inputs*, does some processing on them and returns one or more *outputs*. The code within the function runs only when it is called.\n",
    "\n",
    "A funtion is defined using the `def` keyword\n",
    "\n",
    "```\n",
    "def my_function():\n",
    "    ....\n",
    "    ....\n",
    "    return something\n",
    "```\n",
    "\n",
    "Functions are useful because they allow us to capture the logic of our code and we can run it with differnt inputs without having to write the same code again and again."
   ]
  },
  {
   "cell_type": "code",
   "execution_count": 14,
   "metadata": {},
   "outputs": [
    {
     "name": "stdout",
     "output_type": "stream",
     "text": [
      "Hello World\n"
     ]
    }
   ],
   "source": [
    "def greet(name):\n",
    "    return 'Hello ' + name\n",
    "\n",
    "print(greet('World'))"
   ]
  },
  {
   "cell_type": "markdown",
   "metadata": {},
   "source": [
    "Functions can also take arguments with a default value. This helps make calling the functions simpler for the default behavior while giving an option to pass on extra arguments."
   ]
  },
  {
   "cell_type": "code",
   "execution_count": 3,
   "metadata": {},
   "outputs": [
    {
     "name": "stdout",
     "output_type": "stream",
     "text": [
      "37.7739,-121.5687\n",
      "37.7739|-121.5687\n"
     ]
    }
   ],
   "source": [
    "lat = 37.7739\n",
    "lng = -121.5687\n",
    "\n",
    "def format_coordinates(latitude, longitude, separator=','):\n",
    "        return '{}{}{}'.format(latitude, separator, longitude)\n",
    "\n",
    "print(format_coordinates(lat, lng))\n",
    "print(format_coordinates(lat, lng, '|'))"
   ]
  },
  {
   "cell_type": "markdown",
   "metadata": {},
   "source": [
    "The default behavior of Python functions is to take *positional arguments*. You pass the arguments in the *order* that is defined by the function. Python allows functions to be called using *keyword arguments*. When we call functions in this way, the order (position) of the arguments can be changed. The main advantage of using keyword arguments is to make the code more readable and explicit."
   ]
  },
  {
   "cell_type": "code",
   "execution_count": 16,
   "metadata": {},
   "outputs": [
    {
     "name": "stdout",
     "output_type": "stream",
     "text": [
      "37.7739;-121.5687\n"
     ]
    }
   ],
   "source": [
    "print(format_coordinates(latitude=lat, longitude=lng, separator=';'))"
   ]
  },
  {
   "cell_type": "markdown",
   "metadata": {},
   "source": [
    "## Exercise\n",
    "\n",
    "Functions can take multiple arguments. Let's write a function to convert coordinates from degrees, minutes, seconds to decimal degrees. This conversion is needed quite often when working with data collected from GPS devices.\n",
    "\n",
    "- 1 degree is equal to 60 minutes\n",
    "- 1 minute is equal to 60 seconds (3600 seconds)\n",
    "\n",
    "To calculate decimal degrees, we can use the formula below:\n",
    "Decimal Degrees = degrees + (minutes/60) + (seconds/3600)\n",
    "\n",
    "Delete the `pass` statement and replace it with the code for the formula. If the code is correct, you should see the result 37.773972 -122.431297"
   ]
  },
  {
   "cell_type": "code",
   "execution_count": 17,
   "metadata": {},
   "outputs": [
    {
     "name": "stdout",
     "output_type": "stream",
     "text": [
      "None None\n"
     ]
    }
   ],
   "source": [
    "latitude = (37, 46, 26.2992)\n",
    "longitude = (-122, 25, 52.6692)\n",
    "\n",
    "def dms_to_decimal(degrees, minutes, seconds):\n",
    "    pass\n",
    "\n",
    "lat_decimal = dms_to_decimal(latitude[0], latitude[1], latitude[2])\n",
    "lon_decimal = dms_to_decimal(longitude[0], longitude[1], longitude[2])\n",
    "print(lat_decimal, lon_decimal)"
   ]
  },
  {
   "cell_type": "markdown",
   "metadata": {},
   "source": [
    "----"
   ]
  }
 ],
 "metadata": {
  "kernelspec": {
   "display_name": "Python 3",
   "language": "python",
   "name": "python3"
  },
  "language_info": {
   "codemirror_mode": {
    "name": "ipython",
    "version": 3
   },
   "file_extension": ".py",
   "mimetype": "text/x-python",
   "name": "python",
   "nbconvert_exporter": "python",
   "pygments_lexer": "ipython3",
   "version": "3.7.7"
  }
 },
 "nbformat": 4,
 "nbformat_minor": 4
}
