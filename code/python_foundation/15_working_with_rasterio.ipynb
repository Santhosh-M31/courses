{
 "cells": [
  {
   "cell_type": "markdown",
   "metadata": {},
   "source": [
    "# Working with RasterIO\n",
    "\n",
    "[RasterIO](https://rasterio.readthedocs.io/en/latest/) is a modern library to work with geospatial data in a gridded format. It excels at providing an easy way to read/write raster data and access individual bands and pixels as `numpy` arrays.\n",
    "\n",
    "RasterIO is built on top of the popular [GDAL (Geospatial Data Abstraction Library)](https://gdal.org/). GDAL is written in C++ so the Python API provided by GDAL is not very intuitive for Python users. RaserIO aims to make it easy for Python users to use the underlying GDAL library in an intuitive way."
   ]
  },
  {
   "cell_type": "markdown",
   "metadata": {},
   "source": [
    "In this section, we will take 4 individual SRTM tiles around the Mt. Everest region and merge them to a single GeoTiff using RasterIO.\n",
    "\n",
    "![](https://courses.spatialthoughts.com/images/python_foundation/srtm.png)"
   ]
  },
  {
   "cell_type": "code",
   "execution_count": 1,
   "metadata": {},
   "outputs": [],
   "source": [
    "import rasterio"
   ]
  },
  {
   "cell_type": "code",
   "execution_count": 2,
   "metadata": {},
   "outputs": [],
   "source": [
    "import os\n",
    "data_pkg_path = 'data'\n",
    "srtm_dir = 'srtm'\n",
    "filename = 'N28E087.hgt'\n",
    "path = os.path.join(data_pkg_path, srtm_dir, filename)"
   ]
  },
  {
   "cell_type": "markdown",
   "metadata": {},
   "source": [
    "## Reading Raster Data\n",
    "\n",
    "RasterIO can read any raster format supported by the GDAL library. We can call the `open()` method with the file path of the raster. The resulting dataset behaves much like Python's File object."
   ]
  },
  {
   "cell_type": "code",
   "execution_count": 3,
   "metadata": {},
   "outputs": [],
   "source": [
    "dataset = rasterio.open(path)"
   ]
  },
  {
   "cell_type": "markdown",
   "metadata": {},
   "source": [
    "You can check information about the raster using the `meta` attribute.\n",
    "\n",
    "An important property is the dataset *transform*. The transform contains the pixel resolution of the dataset and the row and column coordinates of the upper left corner of the dataset."
   ]
  },
  {
   "cell_type": "code",
   "execution_count": 4,
   "metadata": {},
   "outputs": [
    {
     "data": {
      "text/plain": [
       "{'driver': 'SRTMHGT',\n",
       " 'dtype': 'int16',\n",
       " 'nodata': -32768.0,\n",
       " 'width': 3601,\n",
       " 'height': 3601,\n",
       " 'count': 1,\n",
       " 'crs': CRS.from_epsg(4326),\n",
       " 'transform': Affine(0.0002777777777777778, 0.0, 86.99986111111112,\n",
       "        0.0, -0.0002777777777777778, 29.000138888888888)}"
      ]
     },
     "execution_count": 4,
     "metadata": {},
     "output_type": "execute_result"
    }
   ],
   "source": [
    "metadata = dataset.meta\n",
    "metadata"
   ]
  },
  {
   "cell_type": "markdown",
   "metadata": {},
   "source": [
    "To read the pixel values, we need to call the `read()` method by passing it a band’s index number. Following the GDAL convention, bands are indexed from 1. Since our dataset contain just 1-band, we can read it as follows."
   ]
  },
  {
   "cell_type": "code",
   "execution_count": 5,
   "metadata": {},
   "outputs": [
    {
     "name": "stdout",
     "output_type": "stream",
     "text": [
      "[[5217 5211 5208 ... 5097 5098 5089]\n",
      " [5206 5201 5200 ... 5080 5075 5069]\n",
      " [5199 5194 5191 ... 5063 5055 5048]\n",
      " ...\n",
      " [5347 5345 5343 ... 5747 5750 5757]\n",
      " [5338 5338 5336 ... 5737 5740 5747]\n",
      " [5332 5331 5332 ... 5734 5736 5744]]\n"
     ]
    }
   ],
   "source": [
    "band1 = dataset.read(1)\n",
    "print(band1)"
   ]
  },
  {
   "cell_type": "markdown",
   "metadata": {},
   "source": [
    "Finally, when we are done with the dataset, we must close it. It is especially important when writing a dataset."
   ]
  },
  {
   "cell_type": "code",
   "execution_count": 6,
   "metadata": {},
   "outputs": [],
   "source": [
    "dataset.close()"
   ]
  },
  {
   "cell_type": "markdown",
   "metadata": {},
   "source": [
    "## Merging Datasets\n",
    "\n",
    "Let's see how we can read the 4 individual tiles and mosaic them together. RasterIO provides multiple sub-modules for various raster operations. We can use the `rasterio.merge` module to carry out this operation."
   ]
  },
  {
   "cell_type": "markdown",
   "metadata": {},
   "source": [
    "We first find all the individual files in the directory using the `os.listdir()` function."
   ]
  },
  {
   "cell_type": "code",
   "execution_count": 7,
   "metadata": {},
   "outputs": [
    {
     "name": "stdout",
     "output_type": "stream",
     "text": [
      "['N27E086.hgt', 'N27E087.hgt', 'N28E086.hgt', 'N28E087.hgt']\n"
     ]
    }
   ],
   "source": [
    "srtm_path = os.path.join(data_pkg_path, 'srtm')\n",
    "all_files = os.listdir(srtm_path)\n",
    "print(all_files)"
   ]
  },
  {
   "cell_type": "markdown",
   "metadata": {},
   "source": [
    "The rasterio.merge module has a `merge()` method that takes a list of *datasets* and returns the merged dataset. So we create an empty list, open each of the files and append it to the list."
   ]
  },
  {
   "cell_type": "code",
   "execution_count": 8,
   "metadata": {},
   "outputs": [
    {
     "name": "stdout",
     "output_type": "stream",
     "text": [
      "[<open DatasetReader name='data\\srtm\\N27E086.hgt' mode='r'>, <open DatasetReader name='data\\srtm\\N27E087.hgt' mode='r'>, <open DatasetReader name='data\\srtm\\N28E086.hgt' mode='r'>, <open DatasetReader name='data\\srtm\\N28E087.hgt' mode='r'>]\n"
     ]
    }
   ],
   "source": [
    "dataset_list = []\n",
    "for file in all_files:\n",
    "    path = os.path.join(srtm_path, file)\n",
    "    dataset_list.append(rasterio.open(path))\n",
    "print(dataset_list)"
   ]
  },
  {
   "cell_type": "markdown",
   "metadata": {},
   "source": [
    "We can pass on the list of tile dataset to the merge method, which will return us the merged data and a new *transform* which contains the updated extent of the merged raster."
   ]
  },
  {
   "cell_type": "code",
   "execution_count": 9,
   "metadata": {},
   "outputs": [
    {
     "name": "stdout",
     "output_type": "stream",
     "text": [
      "(array([[[  4916,   4926,   4931, ...,   5098,   5089, -32768],\n",
      "        [  4919,   4932,   4928, ...,   5075,   5069, -32768],\n",
      "        [  4919,   4928,   4935, ...,   5055,   5048, -32768],\n",
      "        ...,\n",
      "        [   364,    364,    362, ...,   1930,   1944, -32768],\n",
      "        [   360,    359,    357, ...,   1930,   1942, -32768],\n",
      "        [-32768, -32768, -32768, ..., -32768, -32768, -32768]]],\n",
      "      dtype=int16), Affine(0.0002777777777777778, 0.0, 85.99986111111112,\n",
      "       0.0, -0.0002777777777777778, 29.000138888888888))\n"
     ]
    }
   ],
   "source": [
    "from rasterio import merge\n",
    "merged_result = merge.merge(dataset_list)\n",
    "print(merged_result)"
   ]
  },
  {
   "cell_type": "markdown",
   "metadata": {},
   "source": [
    "We save the data and the transform to separate variables."
   ]
  },
  {
   "cell_type": "code",
   "execution_count": 10,
   "metadata": {},
   "outputs": [],
   "source": [
    "merged_data = merged_result[0]\n",
    "merged_transform = merged_result[1]"
   ]
  },
  {
   "cell_type": "markdown",
   "metadata": {},
   "source": [
    "Verify that the resulting array shape the sum of individual rasters"
   ]
  },
  {
   "cell_type": "code",
   "execution_count": 11,
   "metadata": {},
   "outputs": [
    {
     "name": "stdout",
     "output_type": "stream",
     "text": [
      "(1, 7202, 7202)\n"
     ]
    }
   ],
   "source": [
    "print(merged_data.shape)"
   ]
  },
  {
   "cell_type": "markdown",
   "metadata": {},
   "source": [
    "## Writing Raster Data\n",
    "\n",
    "Similar to regular Python files, to create a new file, we can open the output file in the *write* mode. RasterIO provides a `write()` method that we can use to write individual bands."
   ]
  },
  {
   "cell_type": "code",
   "execution_count": 12,
   "metadata": {},
   "outputs": [],
   "source": [
    "output_filename = 'merged.tif'\n",
    "output_dir = 'output'\n",
    "output_path = os.path.join(output_dir, output_filename)"
   ]
  },
  {
   "cell_type": "markdown",
   "metadata": {},
   "source": [
    "We need to specify many metadata parameters to initialize the output dataset. Some of these parameter values can be directly copied from the input files, such as `crs`, `dtype`, `nodata` etc. , while others can be obtained from the merged dataset, such as `height` and `width`.\n",
    "\n",
    "Remember to call the `close()` method which will finalize the file and write the data to disk."
   ]
  },
  {
   "cell_type": "code",
   "execution_count": 13,
   "metadata": {},
   "outputs": [],
   "source": [
    "new_dataset = rasterio.open(output_path, 'w', \n",
    "                            driver='GTiff',\n",
    "                            height=merged_data.shape[1],\n",
    "                            width=merged_data.shape[2],\n",
    "                            count=1,\n",
    "                            nodata=-32768.0,\n",
    "                            dtype=merged_data.dtype,\n",
    "                            crs='+proj=latlong',\n",
    "                            transform=merged_transform)\n",
    "new_dataset.write(merged_data)\n",
    "new_dataset.close()"
   ]
  },
  {
   "cell_type": "markdown",
   "metadata": {},
   "source": [
    "## Exercise\n",
    "\n",
    "The merged array represents elevation values. The extent of the tiles cover Mt. Everest. Read the resulting raster and find the maximum elevation value contained in it."
   ]
  },
  {
   "cell_type": "markdown",
   "metadata": {},
   "source": [
    "----"
   ]
  }
 ],
 "metadata": {
  "kernelspec": {
   "display_name": "Python 3",
   "language": "python",
   "name": "python3"
  },
  "language_info": {
   "codemirror_mode": {
    "name": "ipython",
    "version": 3
   },
   "file_extension": ".py",
   "mimetype": "text/x-python",
   "name": "python",
   "nbconvert_exporter": "python",
   "pygments_lexer": "ipython3",
   "version": "3.7.7"
  }
 },
 "nbformat": 4,
 "nbformat_minor": 4
}
