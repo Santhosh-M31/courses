{
 "cells": [
  {
   "cell_type": "markdown",
   "metadata": {},
   "source": [
    "# Miscellaneous Concepts"
   ]
  },
  {
   "cell_type": "markdown",
   "metadata": {},
   "source": [
    "## List Comprehension"
   ]
  },
  {
   "cell_type": "code",
   "execution_count": 23,
   "metadata": {},
   "outputs": [
    {
     "name": "stdout",
     "output_type": "stream",
     "text": [
      "('USA', 'Washington D. C.')\n",
      "('Canada', 'Ottawa')\n",
      "('Mexico', 'Mexico City')\n"
     ]
    }
   ],
   "source": [
    "countries = ['USA', 'Canada', 'Mexico']\n",
    "capitals = ['Washington D. C.', 'Ottawa', 'Mexico City']\n",
    "for x in zip(countries, capitals):\n",
    "    print(x)"
   ]
  },
  {
   "cell_type": "code",
   "execution_count": 24,
   "metadata": {},
   "outputs": [
    {
     "name": "stdout",
     "output_type": "stream",
     "text": [
      "[('USA', 'Washington D. C.'), ('Canada', 'Ottawa'), ('Mexico', 'Mexico City')]\n"
     ]
    }
   ],
   "source": [
    "country_capitals_list = []\n",
    "for x in zip(countries, capitals):\n",
    "    country_capitals_list.append(x)\n",
    "print(country_capitals_list)"
   ]
  },
  {
   "cell_type": "code",
   "execution_count": 26,
   "metadata": {},
   "outputs": [
    {
     "name": "stdout",
     "output_type": "stream",
     "text": [
      "[('USA', 'Washington D. C.'), ('Canada', 'Ottawa'), ('Mexico', 'Mexico City')]\n"
     ]
    }
   ],
   "source": [
    "country_capitals_list = [x for x in zip(countries, capitals)]\n",
    "print(country_capitals_list)"
   ]
  }
 ],
 "metadata": {
  "kernelspec": {
   "display_name": "Python 3",
   "language": "python",
   "name": "python3"
  },
  "language_info": {
   "codemirror_mode": {
    "name": "ipython",
    "version": 3
   },
   "file_extension": ".py",
   "mimetype": "text/x-python",
   "name": "python",
   "nbconvert_exporter": "python",
   "pygments_lexer": "ipython3",
   "version": "3.7.7"
  }
 },
 "nbformat": 4,
 "nbformat_minor": 4
}
