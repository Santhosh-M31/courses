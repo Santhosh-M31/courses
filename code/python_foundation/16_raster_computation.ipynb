{
 "cells": [
  {
   "cell_type": "markdown",
   "metadata": {},
   "source": [
    "# Raster Computation\n",
    "\n",
    "In the previous section we saw how RasterIO can help us read and write geospatial rasters and use built-in modules to do some geoprocessing. In this section we will see how we can do computation on the rasters. As RasterIO reads raster bands as NumPy arrays, we can apply any operation on the data that is supported by NumPy.\n",
    "\n",
    "In this example, we will take a satellite image from the Sentinel-2 satellite and see how we can create various composites and calculate NDVI (Normalized Differential Vegetation Index).\n",
    "\n",
    "![](https://courses.spatialthoughts.com/images/python_foundation/ndvi.png)"
   ]
  },
  {
   "cell_type": "code",
   "execution_count": 1,
   "metadata": {},
   "outputs": [],
   "source": [
    "import os\n",
    "data_pkg_path = 'data'\n",
    "sentinel2_dir = 'sentinel2'"
   ]
  },
  {
   "cell_type": "markdown",
   "metadata": {},
   "source": [
    "The directory contains 4 JPEG2000 files with the `.jp2` extension. It also contains other metadata files. We saw how the `os.listdir()` function can help find all files in the directory, but if we wanted to find a subset of files that match a pattern, Python has another helpful module called `glob`. It allows us the to use unix-style [wildcards](https://tldp.org/LDP/GNU-Linux-Tools-Summary/html/x11655.htm) such as `*`, `?` etc. in Python to match filenames.\n",
    "\n",
    "\n",
    "Below code finds all files that end with `.jp2`."
   ]
  },
  {
   "cell_type": "code",
   "execution_count": 2,
   "metadata": {},
   "outputs": [
    {
     "name": "stdout",
     "output_type": "stream",
     "text": [
      "['data\\\\sentinel2\\\\T43PGQ_20200218T050851_B02.jp2', 'data\\\\sentinel2\\\\T43PGQ_20200218T050851_B03.jp2', 'data\\\\sentinel2\\\\T43PGQ_20200218T050851_B04.jp2', 'data\\\\sentinel2\\\\T43PGQ_20200218T050851_B08.jp2']\n"
     ]
    }
   ],
   "source": [
    "import glob\n",
    "\n",
    "pattern = '*.jp2'\n",
    "\n",
    "path = os.path.join(data_pkg_path, sentinel2_dir, pattern)\n",
    "files = glob.glob(path)\n",
    "print(files)"
   ]
  },
  {
   "cell_type": "markdown",
   "metadata": {},
   "source": [
    "Each file is a separate band from the same scene. The band names are part of the file name, so we can use the `in` operator to check which the file corresponding to each band name."
   ]
  },
  {
   "cell_type": "code",
   "execution_count": 3,
   "metadata": {},
   "outputs": [
    {
     "name": "stdout",
     "output_type": "stream",
     "text": [
      "{'red': 'data\\\\sentinel2\\\\T43PGQ_20200218T050851_B04.jp2', 'green': 'data\\\\sentinel2\\\\T43PGQ_20200218T050851_B03.jp2', 'blue': 'data\\\\sentinel2\\\\T43PGQ_20200218T050851_B02.jp2', 'nir': 'data\\\\sentinel2\\\\T43PGQ_20200218T050851_B08.jp2'}\n"
     ]
    }
   ],
   "source": [
    "bands = {\n",
    "    'red': 'B04',\n",
    "    'green': 'B03',\n",
    "    'blue': 'B02',\n",
    "    'nir': 'B08'\n",
    "}\n",
    "band_files = {}\n",
    "\n",
    "for band_name, band_number in bands.items():\n",
    "    for filename in files:\n",
    "        if band_number in filename:\n",
    "            band_files[band_name] = filename\n",
    "print(band_files)"
   ]
  },
  {
   "cell_type": "markdown",
   "metadata": {},
   "source": [
    "All the files come from the same scene and have the same metadata. Let's open any one of the file and read the metadata."
   ]
  },
  {
   "cell_type": "code",
   "execution_count": 4,
   "metadata": {},
   "outputs": [
    {
     "name": "stdout",
     "output_type": "stream",
     "text": [
      "{'driver': 'JP2OpenJPEG', 'dtype': 'uint16', 'nodata': None, 'width': 10980, 'height': 10980, 'count': 1, 'crs': CRS.from_epsg(32643), 'transform': Affine(10.0, 0.0, 699960.0,\n",
      "       0.0, -10.0, 1500000.0)}\n"
     ]
    }
   ],
   "source": [
    "import rasterio\n",
    "\n",
    "red_dataset = rasterio.open(band_files['red'])\n",
    "metadata = red_dataset.meta\n",
    "print(metadata)"
   ]
  },
  {
   "cell_type": "markdown",
   "metadata": {},
   "source": [
    "We can now loop through all bands and read the data."
   ]
  },
  {
   "cell_type": "code",
   "execution_count": 5,
   "metadata": {},
   "outputs": [
    {
     "name": "stdout",
     "output_type": "stream",
     "text": [
      "{'red': array([[   0,    0,    0, ..., 1683, 1678, 1624],\n",
      "       [   0,    0,    0, ..., 1571, 1737, 1636],\n",
      "       [   0,    0,    0, ..., 1307, 1537, 1332],\n",
      "       ...,\n",
      "       [1167, 1161, 1055, ..., 1499, 1457, 1453],\n",
      "       [1235, 1183, 1085, ..., 1479, 1484, 1479],\n",
      "       [1275, 1261, 1168, ..., 1541, 1539, 1473]], dtype=uint16), 'green': array([[   0,    0,    0, ..., 1189, 1161, 1144],\n",
      "       [   0,    0,    0, ..., 1169, 1196, 1129],\n",
      "       [   0,    0,    0, ..., 1087, 1169, 1097],\n",
      "       ...,\n",
      "       [1077, 1075,  972, ..., 1198, 1193, 1210],\n",
      "       [1087, 1089,  985, ..., 1209, 1211, 1213],\n",
      "       [1134, 1105, 1031, ..., 1238, 1232, 1221]], dtype=uint16), 'blue': array([[   0,    0,    0, ..., 1132, 1121, 1088],\n",
      "       [   0,    0,    0, ..., 1121, 1146, 1108],\n",
      "       [   0,    0,    0, ..., 1100, 1158, 1066],\n",
      "       ...,\n",
      "       [1167, 1164, 1094, ..., 1187, 1184, 1175],\n",
      "       [1174, 1163, 1132, ..., 1190, 1204, 1198],\n",
      "       [1205, 1173, 1170, ..., 1229, 1215, 1191]], dtype=uint16), 'nir': array([[   0,    0,    0, ..., 2348, 2342, 2279],\n",
      "       [   0,    0,    0, ..., 2571, 2482, 2273],\n",
      "       [   0,    0,    0, ..., 2436, 2390, 2289],\n",
      "       ...,\n",
      "       [2148, 2047, 2001, ..., 2451, 2474, 2587],\n",
      "       [2211, 2097, 2006, ..., 2441, 2445, 2533],\n",
      "       [2219, 2100, 1995, ..., 2457, 2449, 2566]], dtype=uint16)}\n"
     ]
    }
   ],
   "source": [
    "band_datasets = {}\n",
    "for band_name, band_file in band_files.items():\n",
    "    dataset = rasterio.open(band_file)\n",
    "    band_dataset = dataset.read(1)\n",
    "    band_datasets[band_name] = band_dataset\n",
    "    dataset.close()\n",
    "print(band_datasets)"
   ]
  },
  {
   "cell_type": "markdown",
   "metadata": {},
   "source": [
    "## Combining Bands into a Composite\n",
    "\n",
    "Let's see how we can combine the individual bands into a single raster with 3 bands. This was we can create a true-color or false-color composite.\n",
    "\n",
    "We can combine the 'red', 'green' and 'blue' bands to form a RGB (true-color) composite image.\n",
    "\n",
    "We can use the same metadata parameters as the input image, with one little change. We can update the band count to 3. Since `metadata` is a dictionary, we can use the `update()` method to change set a key to a new value."
   ]
  },
  {
   "cell_type": "code",
   "execution_count": 6,
   "metadata": {},
   "outputs": [],
   "source": [
    "metadata.update({'count':3})"
   ]
  },
  {
   "cell_type": "markdown",
   "metadata": {},
   "source": [
    "We have a dictionary that contains all the metadata parameters that we can pass to the `rasterio.open()` method. But a function accepts arguments in the form of keywords, such as `count=3, dtype=uint16, ....`. Python provides a special operator `**` which converts a dictionary into keyword arguments suitable to be passed to functions."
   ]
  },
  {
   "cell_type": "code",
   "execution_count": 7,
   "metadata": {},
   "outputs": [],
   "source": [
    "output_filename = 'rgb.jp2'\n",
    "output_dir = 'output'\n",
    "output_path = os.path.join(output_dir, output_filename)\n",
    "\n",
    "rgb_dataset = rasterio.open(output_path, 'w', **metadata)"
   ]
  },
  {
   "cell_type": "markdown",
   "metadata": {},
   "source": [
    "Now the dataset is created, we can write data from each band."
   ]
  },
  {
   "cell_type": "code",
   "execution_count": 8,
   "metadata": {},
   "outputs": [],
   "source": [
    "rgb_dataset.write(band_datasets['red'], 1)\n",
    "rgb_dataset.write(band_datasets['green'], 2)\n",
    "rgb_dataset.write(band_datasets['blue'], 3)\n",
    "rgb_dataset.close()"
   ]
  },
  {
   "cell_type": "markdown",
   "metadata": {},
   "source": [
    "## Calculating NDVI\n",
    "\n",
    "We can perform band-math on the datasets using NumPy functions. We will use the Red and NIR bands on the input image to calculate NDVI.\n",
    "\n",
    "The forumla for computing NDVI is as follows\n",
    "\n",
    "`NDVI = (NIR - RED) / ( NIR + RED)`"
   ]
  },
  {
   "cell_type": "markdown",
   "metadata": {},
   "source": [
    "Before we do so, we need to set the correct data type for the input data. The input bands contains integer values and are stored as the `uint16` (unsigned integer 16-bits). When we do some operation on 2 numbers that are unsigned (meaning they can't store negative values), but output is a negative number, it results an [integer overflow](https://en.wikipedia.org/wiki/Integer_overflow) error. See below example."
   ]
  },
  {
   "cell_type": "code",
   "execution_count": 9,
   "metadata": {},
   "outputs": [
    {
     "name": "stdout",
     "output_type": "stream",
     "text": [
      "[65526]\n"
     ]
    }
   ],
   "source": [
    "import numpy as np\n",
    "a = np.array([10], dtype=np.uint16)\n",
    "b = np.array([20], dtype=np.uint16)\n",
    "\n",
    "print(a-b)"
   ]
  },
  {
   "cell_type": "markdown",
   "metadata": {},
   "source": [
    "If we expect the results maybe negative, we can change the datatype to one that supports negative numbers."
   ]
  },
  {
   "cell_type": "code",
   "execution_count": 10,
   "metadata": {},
   "outputs": [
    {
     "name": "stdout",
     "output_type": "stream",
     "text": [
      "[-10]\n"
     ]
    }
   ],
   "source": [
    "a = a.astype(np.int16)\n",
    "b = b.astype(np.int16)\n",
    "print(a-b)"
   ]
  },
  {
   "cell_type": "markdown",
   "metadata": {},
   "source": [
    "Since NDVI values can be negative and also any real number, we should change the type to a floating point type."
   ]
  },
  {
   "cell_type": "code",
   "execution_count": 11,
   "metadata": {},
   "outputs": [],
   "source": [
    "red = band_datasets['red'].astype(np.float32)\n",
    "nir = band_datasets['nir'].astype(np.float32)"
   ]
  },
  {
   "cell_type": "markdown",
   "metadata": {},
   "source": [
    "Before we do the calculation, we need to deal with one more potential issue. Since the NDVI formula requires us to divide numbers, we may end up accidentely dividing a number with 0. Let's see what happens if we divide a number by 0."
   ]
  },
  {
   "cell_type": "code",
   "execution_count": 12,
   "metadata": {},
   "outputs": [
    {
     "name": "stdout",
     "output_type": "stream",
     "text": [
      "[inf]\n"
     ]
    },
    {
     "name": "stderr",
     "output_type": "stream",
     "text": [
      "C:\\Users\\ujaval\\anaconda3\\envs\\python_foundation\\lib\\site-packages\\ipykernel_launcher.py:1: RuntimeWarning: divide by zero encountered in true_divide\n",
      "  \"\"\"Entry point for launching an IPython kernel.\n"
     ]
    }
   ],
   "source": [
    "print(a/0)"
   ]
  },
  {
   "cell_type": "markdown",
   "metadata": {},
   "source": [
    "To avoice this warning of division by zero, we can set NumPy to ignore such cases"
   ]
  },
  {
   "cell_type": "code",
   "execution_count": 13,
   "metadata": {},
   "outputs": [
    {
     "data": {
      "text/plain": [
       "{'divide': 'warn', 'over': 'warn', 'under': 'ignore', 'invalid': 'warn'}"
      ]
     },
     "execution_count": 13,
     "metadata": {},
     "output_type": "execute_result"
    }
   ],
   "source": [
    "np.seterr(divide='ignore', invalid='ignore')"
   ]
  },
  {
   "cell_type": "markdown",
   "metadata": {},
   "source": [
    "Now we can do the calculations using regular Python syntax."
   ]
  },
  {
   "cell_type": "code",
   "execution_count": 14,
   "metadata": {},
   "outputs": [],
   "source": [
    "ndvi = (nir - red) / (nir + red)"
   ]
  },
  {
   "cell_type": "markdown",
   "metadata": {},
   "source": [
    "We can now write the resulting rastre to disk. Since the JP2 driver supports writing only integer data, we can choose to write it as a GeoTIFF file."
   ]
  },
  {
   "cell_type": "code",
   "execution_count": 15,
   "metadata": {},
   "outputs": [
    {
     "name": "stdout",
     "output_type": "stream",
     "text": [
      "{'driver': 'GTiff', 'dtype': 'float32', 'nodata': None, 'width': 10980, 'height': 10980, 'count': 1, 'crs': CRS.from_epsg(32643), 'transform': Affine(10.0, 0.0, 699960.0,\n",
      "       0.0, -10.0, 1500000.0)}\n"
     ]
    }
   ],
   "source": [
    "metadata.update({'count': 1, 'dtype': 'float32', 'driver': 'GTiff'})\n",
    "print(metadata)"
   ]
  },
  {
   "cell_type": "code",
   "execution_count": 16,
   "metadata": {},
   "outputs": [],
   "source": [
    "output_filename = 'ndvi.tif'\n",
    "output_dir = 'output'\n",
    "output_path = os.path.join(output_dir, output_filename)\n",
    "\n",
    "ndvi_dataset = rasterio.open(output_path, 'w', **metadata)\n",
    "ndvi_dataset.write(ndvi, 1)\n",
    "ndvi_dataset.close()"
   ]
  },
  {
   "cell_type": "markdown",
   "metadata": {},
   "source": [
    "## Exercise\n",
    "\n",
    "Take the Sentinel-2 bands and create a False Color Composite (FCC). A *NRG Color Composite* is created with the following configuration.\n",
    "\n",
    "- Band 1: NIR\n",
    "- Band 2: Red\n",
    "- Band 3: Green\n"
   ]
  },
  {
   "cell_type": "markdown",
   "metadata": {},
   "source": [
    "----"
   ]
  }
 ],
 "metadata": {
  "kernelspec": {
   "display_name": "Python 3",
   "language": "python",
   "name": "python3"
  },
  "language_info": {
   "codemirror_mode": {
    "name": "ipython",
    "version": 3
   },
   "file_extension": ".py",
   "mimetype": "text/x-python",
   "name": "python",
   "nbconvert_exporter": "python",
   "pygments_lexer": "ipython3",
   "version": "3.7.7"
  }
 },
 "nbformat": 4,
 "nbformat_minor": 4
}
