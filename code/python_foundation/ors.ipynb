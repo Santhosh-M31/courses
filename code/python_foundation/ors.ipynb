{
 "cells": [
  {
   "cell_type": "code",
   "execution_count": 6,
   "metadata": {},
   "outputs": [],
   "source": [
    "import requests\n",
    "import json\n",
    "from geopy import distance"
   ]
  },
  {
   "cell_type": "code",
   "execution_count": 12,
   "metadata": {},
   "outputs": [],
   "source": [
    "# pip install -U python-dotenv\n",
    "\n",
    "#%load_ext dotenv\n",
    "%dotenv\n",
    "import os\n",
    "ORS_API_KEY = os.getenv('ORS_API_KEY')\n"
   ]
  },
  {
   "cell_type": "code",
   "execution_count": 13,
   "metadata": {},
   "outputs": [],
   "source": [
    "\n",
    "bangalore = (77.58, 12.98)\n",
    "mysore = (76.64, 12.30)\n",
    "\n",
    "\n",
    "headers = {\n",
    "    'Accept': 'application/json, application/geo+json, application/gpx+xml, img/png; charset=utf-8',\n",
    "}\n",
    "\n",
    "parameters = {\n",
    "    'api_key': ORS_API_KEY,\n",
    "    'start' : '{},{}'.format(bangalore[0], bangalore[1]),\n",
    "    'end' : '{},{}'.format(mysore[0], mysore[1])\n",
    "}\n",
    "\n",
    "response = requests.get('https://api.openrouteservice.org/v2/directions/driving-car', params=parameters)\n",
    "\n",
    "data = response.json()\n"
   ]
  },
  {
   "cell_type": "code",
   "execution_count": 14,
   "metadata": {},
   "outputs": [
    {
     "name": "stdout",
     "output_type": "stream",
     "text": [
      "141.65810000000002 126.83662752619989 km\n"
     ]
    }
   ],
   "source": [
    "def change_order(latlon):\n",
    "    return (latlon[1], latlon[0])\n",
    "\n",
    "driving_distance = data['features'][0]['properties']['segments'][0]['distance']/1000\n",
    "straightline_distance = distance.distance(change_order(bangalore), change_order(mysore))\n",
    "print(driving_distance, straightline_distance)"
   ]
  },
  {
   "cell_type": "code",
   "execution_count": null,
   "metadata": {},
   "outputs": [],
   "source": []
  }
 ],
 "metadata": {
  "kernelspec": {
   "display_name": "Python 3",
   "language": "python",
   "name": "python3"
  },
  "language_info": {
   "codemirror_mode": {
    "name": "ipython",
    "version": 3
   },
   "file_extension": ".py",
   "mimetype": "text/x-python",
   "name": "python",
   "nbconvert_exporter": "python",
   "pygments_lexer": "ipython3",
   "version": "3.8.2"
  }
 },
 "nbformat": 4,
 "nbformat_minor": 4
}
