{
 "cells": [
  {
   "cell_type": "code",
   "execution_count": 55,
   "metadata": {},
   "outputs": [],
   "source": [
    "import rasterio\n",
    "from rasterio import merge"
   ]
  },
  {
   "cell_type": "code",
   "execution_count": 56,
   "metadata": {},
   "outputs": [],
   "source": [
    "import os\n",
    "home_dir = os.path.expanduser('~')\n",
    "data_pkg_path = 'Downloads/python_foundation'\n",
    "srtm_dir = 'srtm'\n",
    "filename = 'N28E087.hgt'\n",
    "path = os.path.join(home_dir, data_pkg_path, srtm_dir, filename)"
   ]
  },
  {
   "cell_type": "code",
   "execution_count": 57,
   "metadata": {},
   "outputs": [],
   "source": [
    "dataset = rasterio.open(path)"
   ]
  },
  {
   "cell_type": "code",
   "execution_count": 58,
   "metadata": {},
   "outputs": [],
   "source": [
    "width = dataset.width\n",
    "height = dataset.height"
   ]
  },
  {
   "cell_type": "code",
   "execution_count": 78,
   "metadata": {},
   "outputs": [
    {
     "data": {
      "text/plain": [
       "{'driver': 'SRTMHGT',\n",
       " 'dtype': 'int16',\n",
       " 'nodata': -32768.0,\n",
       " 'width': 3601,\n",
       " 'height': 3601,\n",
       " 'count': 1,\n",
       " 'crs': CRS.from_epsg(4326),\n",
       " 'transform': Affine(0.0002777777777777778, 0.0, 86.99986111111112,\n",
       "        0.0, -0.0002777777777777778, 29.000138888888888)}"
      ]
     },
     "execution_count": 78,
     "metadata": {},
     "output_type": "execute_result"
    }
   ],
   "source": [
    "metadata = dataset.meta\n",
    "metadata"
   ]
  },
  {
   "cell_type": "code",
   "execution_count": 60,
   "metadata": {},
   "outputs": [],
   "source": [
    "dataset.close()"
   ]
  },
  {
   "cell_type": "code",
   "execution_count": 61,
   "metadata": {},
   "outputs": [
    {
     "name": "stdout",
     "output_type": "stream",
     "text": [
      "['N28E086.hgt', 'N28E087.hgt', 'N27E087.hgt', 'N27E086.hgt']\n"
     ]
    }
   ],
   "source": [
    "srtm_path = os.path.join(home_dir, data_pkg_path, 'srtm')\n",
    "all_files = os.listdir(srtm_path)\n",
    "print(all_files)"
   ]
  },
  {
   "cell_type": "code",
   "execution_count": 62,
   "metadata": {},
   "outputs": [
    {
     "name": "stdout",
     "output_type": "stream",
     "text": [
      "[<open DatasetReader name='/Users/ujaval/Downloads/python_foundation/srtm/N28E086.hgt' mode='r'>, <open DatasetReader name='/Users/ujaval/Downloads/python_foundation/srtm/N28E087.hgt' mode='r'>, <open DatasetReader name='/Users/ujaval/Downloads/python_foundation/srtm/N27E087.hgt' mode='r'>, <open DatasetReader name='/Users/ujaval/Downloads/python_foundation/srtm/N27E086.hgt' mode='r'>]\n"
     ]
    }
   ],
   "source": [
    "dataset_list = []\n",
    "for file in all_files:\n",
    "    path = os.path.join(srtm_path, file)\n",
    "    dataset_list.append(rasterio.open(path))\n",
    "print(dataset_list)"
   ]
  },
  {
   "cell_type": "code",
   "execution_count": 63,
   "metadata": {},
   "outputs": [],
   "source": [
    "merged_result = merge.merge(dataset_list)\n"
   ]
  },
  {
   "cell_type": "code",
   "execution_count": 70,
   "metadata": {},
   "outputs": [
    {
     "data": {
      "text/plain": [
       "(array([[[  4916,   4926,   4931, ...,   5098,   5089, -32768],\n",
       "         [  4919,   4932,   4928, ...,   5075,   5069, -32768],\n",
       "         [  4919,   4928,   4935, ...,   5055,   5048, -32768],\n",
       "         ...,\n",
       "         [   364,    364,    362, ...,   1930,   1944, -32768],\n",
       "         [   360,    359,    357, ...,   1930,   1942, -32768],\n",
       "         [-32768, -32768, -32768, ..., -32768, -32768, -32768]]],\n",
       "       dtype=int16),\n",
       " Affine(0.0002777777777777778, 0.0, 85.99986111111112,\n",
       "        0.0, -0.0002777777777777778, 29.000138888888888))"
      ]
     },
     "execution_count": 70,
     "metadata": {},
     "output_type": "execute_result"
    }
   ],
   "source": [
    "merged_result"
   ]
  },
  {
   "cell_type": "code",
   "execution_count": 65,
   "metadata": {},
   "outputs": [],
   "source": [
    "merged_data = merged_result[0]\n",
    "merged_transform = merged_result[1]"
   ]
  },
  {
   "cell_type": "code",
   "execution_count": 66,
   "metadata": {},
   "outputs": [
    {
     "data": {
      "text/plain": [
       "7202"
      ]
     },
     "execution_count": 66,
     "metadata": {},
     "output_type": "execute_result"
    }
   ],
   "source": [
    "merged_data.shape[1]"
   ]
  },
  {
   "cell_type": "code",
   "execution_count": 76,
   "metadata": {},
   "outputs": [
    {
     "data": {
      "text/plain": [
       "8748"
      ]
     },
     "execution_count": 76,
     "metadata": {},
     "output_type": "execute_result"
    }
   ],
   "source": [
    "import numpy as np\n",
    "merged_data.max()\n"
   ]
  },
  {
   "cell_type": "code",
   "execution_count": 80,
   "metadata": {},
   "outputs": [],
   "source": [
    "output_filename = 'merged.tif'\n",
    "output_dir = 'Downloads'\n",
    "output_path = os.path.join(home_dir, output_dir, output_filename)\n",
    "\n",
    "new_dataset = rasterio.open(output_path, 'w', \n",
    "                            driver='GTiff',\n",
    "                            height=merged_data.shape[1],\n",
    "                            width=merged_data.shape[2],\n",
    "                            count=1,\n",
    "                            nodata=-32768.0,\n",
    "                            dtype=merged_data.dtype,\n",
    "                            crs='+proj=latlong',\n",
    "                            transform=merged_transform)\n",
    "new_dataset.write(merged_data)\n",
    "new_dataset.close()"
   ]
  }
 ],
 "metadata": {
  "kernelspec": {
   "display_name": "Python 3",
   "language": "python",
   "name": "python3"
  },
  "language_info": {
   "codemirror_mode": {
    "name": "ipython",
    "version": 3
   },
   "file_extension": ".py",
   "mimetype": "text/x-python",
   "name": "python",
   "nbconvert_exporter": "python",
   "pygments_lexer": "ipython3",
   "version": "3.7.7"
  }
 },
 "nbformat": 4,
 "nbformat_minor": 4
}
