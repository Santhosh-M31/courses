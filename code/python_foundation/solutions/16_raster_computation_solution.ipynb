{
 "cells": [
  {
   "cell_type": "code",
   "execution_count": 3,
   "metadata": {},
   "outputs": [
    {
     "name": "stdout",
     "output_type": "stream",
     "text": [
      "{'red': '../data/sentinel2/T43PGQ_20200218T050851_B04.jp2', 'green': '../data/sentinel2/T43PGQ_20200218T050851_B03.jp2', 'blue': '../data/sentinel2/T43PGQ_20200218T050851_B02.jp2', 'nir': '../data/sentinel2/T43PGQ_20200218T050851_B08.jp2'}\n",
      "{'driver': 'JP2OpenJPEG', 'dtype': 'uint16', 'nodata': None, 'width': 10980, 'height': 10980, 'count': 1, 'crs': CRS.from_epsg(32643), 'transform': Affine(10.0, 0.0, 699960.0,\n",
      "       0.0, -10.0, 1500000.0)}\n",
      "{'red': array([[   0,    0,    0, ..., 1683, 1678, 1624],\n",
      "       [   0,    0,    0, ..., 1571, 1737, 1636],\n",
      "       [   0,    0,    0, ..., 1307, 1537, 1332],\n",
      "       ...,\n",
      "       [1167, 1161, 1055, ..., 1499, 1457, 1453],\n",
      "       [1235, 1183, 1085, ..., 1479, 1484, 1479],\n",
      "       [1275, 1261, 1168, ..., 1541, 1539, 1473]], dtype=uint16), 'green': array([[   0,    0,    0, ..., 1189, 1161, 1144],\n",
      "       [   0,    0,    0, ..., 1169, 1196, 1129],\n",
      "       [   0,    0,    0, ..., 1087, 1169, 1097],\n",
      "       ...,\n",
      "       [1077, 1075,  972, ..., 1198, 1193, 1210],\n",
      "       [1087, 1089,  985, ..., 1209, 1211, 1213],\n",
      "       [1134, 1105, 1031, ..., 1238, 1232, 1221]], dtype=uint16), 'blue': array([[   0,    0,    0, ..., 1132, 1121, 1088],\n",
      "       [   0,    0,    0, ..., 1121, 1146, 1108],\n",
      "       [   0,    0,    0, ..., 1100, 1158, 1066],\n",
      "       ...,\n",
      "       [1167, 1164, 1094, ..., 1187, 1184, 1175],\n",
      "       [1174, 1163, 1132, ..., 1190, 1204, 1198],\n",
      "       [1205, 1173, 1170, ..., 1229, 1215, 1191]], dtype=uint16), 'nir': array([[   0,    0,    0, ..., 2348, 2342, 2279],\n",
      "       [   0,    0,    0, ..., 2571, 2482, 2273],\n",
      "       [   0,    0,    0, ..., 2436, 2390, 2289],\n",
      "       ...,\n",
      "       [2148, 2047, 2001, ..., 2451, 2474, 2587],\n",
      "       [2211, 2097, 2006, ..., 2441, 2445, 2533],\n",
      "       [2219, 2100, 1995, ..., 2457, 2449, 2566]], dtype=uint16)}\n",
      "Successfully written output file at ../output/nrg.jp2\n"
     ]
    }
   ],
   "source": [
    "import os\n",
    "import glob\n",
    "import rasterio\n",
    "\n",
    "pattern = '*.jp2'\n",
    "data_pkg_path = '../data'\n",
    "sentinel2_dir = 'sentinel2'\n",
    "path = os.path.join(data_pkg_path, sentinel2_dir, pattern)\n",
    "files = glob.glob(path)\n",
    "\n",
    "bands = {\n",
    "    'red': 'B04',\n",
    "    'green': 'B03',\n",
    "    'blue': 'B02',\n",
    "    'nir': 'B08'\n",
    "}\n",
    "\n",
    "band_files = {}\n",
    "\n",
    "for band_name, band_number in bands.items():\n",
    "    for filename in files:\n",
    "        if band_number in filename:\n",
    "            band_files[band_name] = filename\n",
    "\n",
    "red_dataset = rasterio.open(band_files['red'])\n",
    "metadata = red_dataset.meta\n",
    "\n",
    "band_datasets = {}\n",
    "for band_name, band_file in band_files.items():\n",
    "    dataset = rasterio.open(band_file)\n",
    "    band_dataset = dataset.read(1)\n",
    "    band_datasets[band_name] = band_dataset\n",
    "    dataset.close()\n",
    "\n",
    "metadata.update({'count':3})\n",
    "\n",
    "output_filename = 'nrg.jp2'\n",
    "output_dir = '../output'\n",
    "output_path = os.path.join(output_dir, output_filename)\n",
    "\n",
    "rgb_dataset = rasterio.open(output_path, 'w', **metadata)\n",
    "rgb_dataset.write(band_datasets['nir'], 1)\n",
    "rgb_dataset.write(band_datasets['red'], 2)\n",
    "rgb_dataset.write(band_datasets['green'], 3)\n",
    "rgb_dataset.close()\n",
    "print('Successfully written output file at {}'.format(output_path))"
   ]
  },
  {
   "cell_type": "code",
   "execution_count": null,
   "metadata": {},
   "outputs": [],
   "source": []
  }
 ],
 "metadata": {
  "kernelspec": {
   "display_name": "Python 3",
   "language": "python",
   "name": "python3"
  },
  "language_info": {
   "codemirror_mode": {
    "name": "ipython",
    "version": 3
   },
   "file_extension": ".py",
   "mimetype": "text/x-python",
   "name": "python",
   "nbconvert_exporter": "python",
   "pygments_lexer": "ipython3",
   "version": "3.7.7"
  }
 },
 "nbformat": 4,
 "nbformat_minor": 4
}
