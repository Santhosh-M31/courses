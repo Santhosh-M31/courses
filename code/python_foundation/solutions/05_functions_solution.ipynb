{
 "cells": [
  {
   "cell_type": "markdown",
   "metadata": {},
   "source": [
    "The formula is staightforward except that we need to handle negative degrees properly"
   ]
  },
  {
   "cell_type": "code",
   "execution_count": 1,
   "metadata": {},
   "outputs": [
    {
     "name": "stdout",
     "output_type": "stream",
     "text": [
      "37.773972 -121.56869999999999\n"
     ]
    }
   ],
   "source": [
    "latitude = (37, 46, 26.2992)\n",
    "longitude = (-121, 34, 7.32)\n",
    "\n",
    "def dms_to_decimal(degrees, minutes, seconds):\n",
    "    mins = minutes/60\n",
    "    secs = seconds/3600\n",
    "    if degrees < 0:\n",
    "        result = degrees - mins - secs\n",
    "    else:\n",
    "        result = degrees + mins + secs\n",
    "    return result\n",
    "\n",
    "# Extract the degree, minute and seconds values from the tuple\n",
    "lat_deg, lat_min, lat_sec = latitude\n",
    "lon_deg, lon_min, lon_sec = longitude\n",
    "\n",
    "lat_decimal = dms_to_decimal(lat_deg, lat_min, lat_sec)\n",
    "lon_decimal = dms_to_decimal(lon_deg, lon_min, lon_sec)\n",
    "print(lat_decimal, lon_decimal)"
   ]
  }
 ],
 "metadata": {
  "kernelspec": {
   "display_name": "Python 3",
   "language": "python",
   "name": "python3"
  },
  "language_info": {
   "codemirror_mode": {
    "name": "ipython",
    "version": 3
   },
   "file_extension": ".py",
   "mimetype": "text/x-python",
   "name": "python",
   "nbconvert_exporter": "python",
   "pygments_lexer": "ipython3",
   "version": "3.7.7"
  }
 },
 "nbformat": 4,
 "nbformat_minor": 4
}
