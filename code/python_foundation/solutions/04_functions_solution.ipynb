{
 "cells": [
  {
   "cell_type": "markdown",
   "metadata": {},
   "source": [
    "The formula is staightforward except that we need to handle negative degrees properly"
   ]
  },
  {
   "cell_type": "code",
   "execution_count": 9,
   "metadata": {},
   "outputs": [
    {
     "name": "stdout",
     "output_type": "stream",
     "text": [
      "37.773972 -122.431297\n"
     ]
    }
   ],
   "source": [
    "latitude = (37, 46, 26.2992)\n",
    "longitude = (-122, 25, 52.6692)\n",
    "\n",
    "def dms_to_decimal(degrees, minutes, seconds):\n",
    "    mins = minutes/60\n",
    "    secs = seconds/3600\n",
    "    if degrees < 0:\n",
    "        result = degrees - mins - secs\n",
    "    else:\n",
    "        result = degrees + mins + secs\n",
    "    return result\n",
    "\n",
    "lat_decimal = dms_to_decimal(latitude[0], latitude[1], latitude[2])\n",
    "lon_decimal = dms_to_decimal(longitude[0], longitude[1], longitude[2])\n",
    "print(lat_decimal, lon_decimal)"
   ]
  }
 ],
 "metadata": {
  "kernelspec": {
   "display_name": "Python 3",
   "language": "python",
   "name": "python3"
  },
  "language_info": {
   "codemirror_mode": {
    "name": "ipython",
    "version": 3
   },
   "file_extension": ".py",
   "mimetype": "text/x-python",
   "name": "python",
   "nbconvert_exporter": "python",
   "pygments_lexer": "ipython3",
   "version": "3.7.7"
  }
 },
 "nbformat": 4,
 "nbformat_minor": 4
}
