{
 "cells": [
  {
   "cell_type": "code",
   "execution_count": null,
   "metadata": {},
   "outputs": [],
   "source": [
    "import rasterio\n",
    "\n",
    "import os\n",
    "data_pkg_path = 'data'\n",
    "srtm_dir = 'srtm'\n",
    "filename = 'N28E087.hgt'\n",
    "path = os.path.join(data_pkg_path, srtm_dir, filename)\n",
    "dataset = rasterio.open(path)\n",
    "metadata = dataset.meta\n"
   ]
  }
 ],
 "metadata": {
  "kernelspec": {
   "display_name": "Python 3",
   "language": "python",
   "name": "python3"
  },
  "language_info": {
   "name": ""
  }
 },
 "nbformat": 4,
 "nbformat_minor": 4
}
