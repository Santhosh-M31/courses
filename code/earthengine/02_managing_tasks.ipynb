{
 "cells": [
  {
   "cell_type": "code",
   "execution_count": null,
   "metadata": {
    "colab": {},
    "colab_type": "code",
    "id": "XSVe5tlwjOeI"
   },
   "outputs": [],
   "source": [
    "try:\n",
    "  import google.colab\n",
    "  IN_COLAB = True\n",
    "except:\n",
    "  IN_COLAB = False"
   ]
  },
  {
   "cell_type": "code",
   "execution_count": null,
   "metadata": {},
   "outputs": [],
   "source": [
    "if IN_COLAB:\n",
    "    !pip --quiet install earthengine-api"
   ]
  },
  {
   "cell_type": "code",
   "execution_count": 3,
   "metadata": {
    "colab": {},
    "colab_type": "code",
    "id": "JuN5rEoyjmjK"
   },
   "outputs": [],
   "source": [
    "import ee"
   ]
  },
  {
   "cell_type": "code",
   "execution_count": 5,
   "metadata": {},
   "outputs": [],
   "source": [
    "ee.Authenticate()"
   ]
  },
  {
   "cell_type": "code",
   "execution_count": null,
   "metadata": {},
   "outputs": [],
   "source": [
    "ee.Initialize()"
   ]
  },
  {
   "cell_type": "markdown",
   "metadata": {},
   "source": [
    "## Create a Collection"
   ]
  },
  {
   "cell_type": "code",
   "execution_count": 6,
   "metadata": {
    "colab": {},
    "colab_type": "code",
    "id": "S60c2-FOjx0h"
   },
   "outputs": [],
   "source": [
    "geometry = ee.Geometry.Point([107.61303468448624, 12.130969369851766])\n",
    "s2 = ee.ImageCollection(\"COPERNICUS/S2\")\n",
    "rgbVis = {\n",
    "  'min': 0.0,\n",
    "  'max': 3000,\n",
    "  'bands': ['B4', 'B3', 'B2'],\n",
    "}\n",
    "\n",
    "# Write a function for Cloud masking\n",
    "def maskS2clouds(image):\n",
    "  qa = image.select('QA60')\n",
    "  cloudBitMask = 1 << 10\n",
    "  cirrusBitMask = 1 << 11\n",
    "  mask = qa.bitwiseAnd(cloudBitMask).eq(0).And(\n",
    "             qa.bitwiseAnd(cirrusBitMask).eq(0))\n",
    "  return image.updateMask(mask) \\\n",
    "      .select(\"B.*\") \\\n",
    "      .copyProperties(image, [\"system:time_start\"])\n",
    "\n",
    "filtered = s2 \\\n",
    "  .filter(ee.Filter.date('2019-01-01', '2019-12-31')) \\\n",
    "  .filter(ee.Filter.lt('CLOUDY_PIXEL_PERCENTAGE', 30)) \\\n",
    "  .filter(ee.Filter.intersects('.geo', geometry)) \\\n",
    "  .map(maskS2clouds)\n",
    "\n",
    "# Write a function that computes NDVI for an image and adds it as a band\n",
    "def addNDVI(image):\n",
    "  ndvi = image.normalizedDifference(['B5', 'B4']).rename('ndvi')\n",
    "  return image.addBands(ndvi)\n",
    "\n",
    "withNdvi = filtered.map(addNDVI)"
   ]
  },
  {
   "cell_type": "markdown",
   "metadata": {},
   "source": [
    "## Export All Images\n",
    "\n",
    "Exports are done via the ``ee.batch`` module. A key difference between javascript and Python version is that the `region` parameter needs to be supplied with actual geometry coordinates."
   ]
  },
  {
   "cell_type": "code",
   "execution_count": null,
   "metadata": {},
   "outputs": [],
   "source": [
    "image_ids = withNdvi.aggregate_array('system:index').getInfo()\n",
    "print('Total images: ', len(image_ids))"
   ]
  },
  {
   "cell_type": "code",
   "execution_count": null,
   "metadata": {
    "colab": {},
    "colab_type": "code",
    "id": "CoXn1_hgoj81"
   },
   "outputs": [],
   "source": [
    "palette = [\n",
    "  'FFFFFF', 'CE7E45', 'DF923D', 'F1B555', 'FCD163', '99B718',\n",
    "  '74A901', '66A000', '529400', '3E8601', '207401', '056201',\n",
    "  '004C00', '023B01', '012E01', '011D01', '011301'];\n",
    "\n",
    "ndviVis = {'min':0, 'max':0.5, 'palette': palette }\n",
    "\n",
    "for i, image_id in enumerate(image_ids):\n",
    "  image = ee.Image(withNdvi.filter(ee.Filter.eq('system:index', image_id)).first())\n",
    "  task = ee.batch.Export.image.toDrive(**{\n",
    "    'image': image.select('ndvi').visualize(**ndviVis),\n",
    "    'description': 'Image Export {}'.format(i+1),\n",
    "    'fileNamePrefix': image.id().getInfo(),\n",
    "    'folder':'earthengine',\n",
    "    'scale': 10,\n",
    "    'region': image.geometry().getInfo()['coordinates'],\n",
    "    'maxPixels': 1e10\n",
    "  })\n",
    "  task.start()\n",
    "  print('Started Task: ', i+1)"
   ]
  },
  {
   "cell_type": "markdown",
   "metadata": {},
   "source": [
    "## Manage Running/Waiting Tasks\n",
    "\n",
    "You can manage tasks as well. Get a list of tasks and get state information on them"
   ]
  },
  {
   "cell_type": "code",
   "execution_count": null,
   "metadata": {
    "colab": {},
    "colab_type": "code",
    "id": "AhNgXPb1XGBX"
   },
   "outputs": [],
   "source": [
    "tasks = ee.batch.Task.list()\n",
    "for task in tasks:\n",
    "  task_id = task.status()['id']\n",
    "  task_state = task.status()['state']\n",
    "  print(task_id, task_state)"
   ]
  },
  {
   "cell_type": "markdown",
   "metadata": {},
   "source": [
    "You can cancel tasks as well"
   ]
  },
  {
   "cell_type": "code",
   "execution_count": null,
   "metadata": {},
   "outputs": [],
   "source": [
    "if task_state == 'RUNNING' or task_state == 'READY':\n",
    "    task.cancel()\n",
    "    print('Task {} canceled'.format(task_id))\n",
    "else:\n",
    "    print('Task {} state is {}'.format(task_id, task_state))\n"
   ]
  },
  {
   "cell_type": "markdown",
   "metadata": {},
   "source": [
    "You can also monitor the task and take action based on the state. You can mount your Google Drive in Colab and read the file once the export task is finished."
   ]
  },
  {
   "cell_type": "code",
   "execution_count": null,
   "metadata": {},
   "outputs": [],
   "source": [
    "while task.status()['state'] in ['READY', 'RUNNING']:\n",
    "  print(task.status())\n",
    "  time.sleep(10)\n",
    "else:\n",
    "  print(task.status())"
   ]
  }
 ],
 "metadata": {
  "colab": {
   "collapsed_sections": [],
   "name": "managing_tasks.ipynb",
   "provenance": []
  },
  "kernelspec": {
   "display_name": "Python 3",
   "language": "python",
   "name": "python3"
  },
  "language_info": {
   "codemirror_mode": {
    "name": "ipython",
    "version": 3
   },
   "file_extension": ".py",
   "mimetype": "text/x-python",
   "name": "python",
   "nbconvert_exporter": "python",
   "pygments_lexer": "ipython3",
   "version": "3.8.3"
  }
 },
 "nbformat": 4,
 "nbformat_minor": 4
}
