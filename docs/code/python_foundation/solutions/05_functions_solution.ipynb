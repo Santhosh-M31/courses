{
 "cells": [
  {
   "cell_type": "markdown",
   "metadata": {},
   "source": [
    "The formula is staightforward except that we need to handle negative degrees properly"
   ]
  },
  {
   "cell_type": "code",
   "execution_count": 5,
   "metadata": {},
   "outputs": [
    {
     "name": "stdout",
     "output_type": "stream",
     "text": [
      "37 46 26.2992\n",
      "37.773972\n"
     ]
    }
   ],
   "source": [
    "def dms_to_decimal(degrees, minutes, seconds):\n",
    "    if degrees < 0:\n",
    "        result = degrees - minutes/60 - seconds/3600\n",
    "    else:\n",
    "        result = degrees + minutes/60 + seconds/3600\n",
    "    return result\n",
    "\n",
    "coordinate = '''37° 46' 26.2992\"'''\n",
    "\n",
    "parts = coordinate.split()\n",
    "\n",
    "degrees = int(parts[0][:-1])\n",
    "minutes = int(parts[1][:-1])\n",
    "seconds = float(parts[2][:-1])\n",
    "print(degrees, minutes, seconds)\n",
    "\n",
    "output = dms_to_decimal(degrees, minutes, seconds)\n",
    "print(output)"
   ]
  },
  {
   "cell_type": "code",
   "execution_count": null,
   "metadata": {},
   "outputs": [],
   "source": []
  }
 ],
 "metadata": {
  "kernelspec": {
   "display_name": "Python 3",
   "language": "python",
   "name": "python3"
  },
  "language_info": {
   "codemirror_mode": {
    "name": "ipython",
    "version": 3
   },
   "file_extension": ".py",
   "mimetype": "text/x-python",
   "name": "python",
   "nbconvert_exporter": "python",
   "pygments_lexer": "ipython3",
   "version": "3.8.6"
  }
 },
 "nbformat": 4,
 "nbformat_minor": 4
}
