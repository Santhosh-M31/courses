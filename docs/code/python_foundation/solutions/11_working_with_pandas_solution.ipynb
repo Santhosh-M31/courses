{
 "cells": [
  {
   "cell_type": "code",
   "execution_count": 4,
   "metadata": {},
   "outputs": [
    {
     "name": "stdout",
     "output_type": "stream",
     "text": [
      "Successfully written output file at ../output/pandas_exercise.csv\n"
     ]
    }
   ],
   "source": [
    "import os\n",
    "from geopy import distance\n",
    "import pandas as pd\n",
    "\n",
    "def calculate_distance(row):\n",
    "    city_coordinates = (row['lat'], row['lng'])\n",
    "    return distance.geodesic(city_coordinates, home_city_coordinates).km\n",
    "\n",
    "data_pkg_path = '../data'\n",
    "filename = 'worldcities.csv'\n",
    "path = os.path.join(data_pkg_path, filename)\n",
    "df = pd.read_csv(path)\n",
    "\n",
    "home_country = 'India'\n",
    "home_city = 'Bengaluru'\n",
    "\n",
    "filtered = df[df['country'] == home_country]\n",
    "country_df = df[df['country'] == home_country].copy()\n",
    "filtered = country_df[country_df['city_ascii'] == home_city]\n",
    "home_city_coordinates = (filtered.iloc[0]['lat'], filtered.iloc[0]['lng'])\n",
    "\n",
    "\n",
    "result = country_df.apply(calculate_distance, axis=1)\n",
    "country_df['distance'] = result\n",
    "filtered = country_df[['city_ascii','distance']]\n",
    "\n",
    "# Let's remove the row with home_city\n",
    "filtered = filtered[filtered['city_ascii'] != home_city]\n",
    "\n",
    "filtered = filtered.rename(columns = {'city_ascii': 'city'})\n",
    "output_filename = 'pandas_exercise.csv'\n",
    "output_dir = '../output'\n",
    "output_path = os.path.join(output_dir, output_filename)\n",
    "filtered.to_csv(output_path, index=False)\n",
    "print('Successfully written output file at {}'.format(output_path))"
   ]
  },
  {
   "cell_type": "code",
   "execution_count": null,
   "metadata": {},
   "outputs": [],
   "source": []
  }
 ],
 "metadata": {
  "kernelspec": {
   "display_name": "Python 3",
   "language": "python",
   "name": "python3"
  },
  "language_info": {
   "codemirror_mode": {
    "name": "ipython",
    "version": 3
   },
   "file_extension": ".py",
   "mimetype": "text/x-python",
   "name": "python",
   "nbconvert_exporter": "python",
   "pygments_lexer": "ipython3",
   "version": "3.7.7"
  }
 },
 "nbformat": 4,
 "nbformat_minor": 4
}
