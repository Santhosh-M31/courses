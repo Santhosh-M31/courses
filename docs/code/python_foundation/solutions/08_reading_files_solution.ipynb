{
 "cells": [
  {
   "cell_type": "code",
   "execution_count": 2,
   "metadata": {},
   "outputs": [
    {
     "name": "stdout",
     "output_type": "stream",
     "text": [
      "../data/worldcities.csv\n"
     ]
    }
   ],
   "source": [
    "import os\n",
    "data_pkg_path = '../data'\n",
    "filename = 'worldcities.csv'\n",
    "path = os.path.join(data_pkg_path, filename)\n",
    "print(path)"
   ]
  },
  {
   "cell_type": "code",
   "execution_count": 5,
   "metadata": {},
   "outputs": [
    {
     "name": "stdout",
     "output_type": "stream",
     "text": [
      "\"city\",\"city_ascii\",\"lat\",\"lng\",\"country\",\"iso2\",\"iso3\",\"admin_name\",\"capital\",\"population\",\"id\"\n",
      "\n",
      "\"Tokyo\",\"Tokyo\",\"35.6850\",\"139.7514\",\"Japan\",\"JP\",\"JPN\",\"Tōkyō\",\"primary\",\"35676000\",\"1392685764\"\n",
      "\n",
      "\"New York\",\"New York\",\"40.6943\",\"-73.9249\",\"United States\",\"US\",\"USA\",\"New York\",\"\",\"19354922.0\",\"1840034016\"\n",
      "\n",
      "\"Mexico City\",\"Mexico City\",\"19.4424\",\"-99.1310\",\"Mexico\",\"MX\",\"MEX\",\"Ciudad de México\",\"primary\",\"19028000\",\"1484247881\"\n",
      "\n",
      "\"Mumbai\",\"Mumbai\",\"19.0170\",\"72.8570\",\"India\",\"IN\",\"IND\",\"Mahārāshtra\",\"admin\",\"18978000\",\"1356226629\"\n",
      "\n"
     ]
    }
   ],
   "source": [
    "f = open(path, 'r', encoding='utf-8')\n",
    "count = 0\n",
    "for line in f:\n",
    "    print(line)\n",
    "    count += 1\n",
    "    if count == 5:\n",
    "        break\n",
    "f.close()"
   ]
  }
 ],
 "metadata": {
  "kernelspec": {
   "display_name": "Python 3",
   "language": "python",
   "name": "python3"
  },
  "language_info": {
   "codemirror_mode": {
    "name": "ipython",
    "version": 3
   },
   "file_extension": ".py",
   "mimetype": "text/x-python",
   "name": "python",
   "nbconvert_exporter": "python",
   "pygments_lexer": "ipython3",
   "version": "3.7.7"
  }
 },
 "nbformat": 4,
 "nbformat_minor": 4
}
