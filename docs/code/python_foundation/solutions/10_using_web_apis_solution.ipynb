{
 "cells": [
  {
   "cell_type": "code",
   "execution_count": 1,
   "metadata": {},
   "outputs": [
    {
     "name": "stdout",
     "output_type": "stream",
     "text": [
      "Successfully written output file at ../output/Colombo_distance.csv\n"
     ]
    }
   ],
   "source": [
    "import csv\n",
    "import os\n",
    "from geopy import distance\n",
    "\n",
    "data_pkg_path = '../data'\n",
    "input_filename = 'worldcities.csv'\n",
    "input_path = os.path.join(data_pkg_path, input_filename)\n",
    "\n",
    "home_city = 'Bengaluru'\n",
    "home_country = 'India'\n",
    "\n",
    "import csv\n",
    "import os\n",
    "import requests\n",
    "import time\n",
    "\n",
    "ORS_API_KEY = '<replace this with your key>'\n",
    "\n",
    "def get_driving_distance(source_coordinates, dest_coordinates):\n",
    "    parameters = {\n",
    "    'api_key': ORS_API_KEY,\n",
    "    'start' : '{},{}'.format(source_coordinates[1], source_coordinates[0]),\n",
    "    'end' : '{},{}'.format(dest_coordinates[1], dest_coordinates[0])\n",
    "    }\n",
    "\n",
    "    response = requests.get(\n",
    "        'https://api.openrouteservice.org/v2/directions/driving-car', params=parameters)\n",
    "\n",
    "    if response.status_code == 200:\n",
    "        data = response.json()\n",
    "        summary = data['features'][0]['properties']['summary']\n",
    "        distance = summary['distance']\n",
    "        return distance/1000\n",
    "    else:\n",
    "        print('Request failed.')\n",
    "        return -9999\n",
    " \n",
    "\n",
    "def write_distance_file(home_city, home_country, output_filename):\n",
    "        \n",
    "    with open(input_path, 'r', encoding='utf-8') as input_file:\n",
    "        csv_reader = csv.DictReader(input_file)\n",
    "        for row in csv_reader:\n",
    "            if row['city_ascii'] == home_city:\n",
    "                home_city_coordinates = (row['lat'], row['lng'])\n",
    "                break\n",
    "\n",
    "    output_filename = '{}_distance.csv'.format(home_city)\n",
    "    output_dir = '../output'\n",
    "    output_path = os.path.join(output_dir, output_filename)\n",
    "\n",
    "    with open(output_path, mode='w') as output_file:\n",
    "        fieldnames = ['city', 'distance_from_home']\n",
    "        csv_writer = csv.DictWriter(output_file, fieldnames=fieldnames)\n",
    "        csv_writer.writeheader()\n",
    "\n",
    "        with open(input_path, 'r', encoding='utf-8') as input_file:\n",
    "            csv_reader = csv.DictReader(input_file)\n",
    "            for row in csv_reader:\n",
    "                if (row['country'] == home_country and\n",
    "                    row['city_ascii'] != home_city):\n",
    "                    city_coordinates = (row['lat'], row['lng'])\n",
    "                    city_distance = get_driving_distance(\n",
    "                        city_coordinates, home_city_coordinates)\n",
    "                    print(row['city_ascii'], city_distance)\n",
    "                    time.sleep(2)\n",
    "                    csv_writer.writerow(\n",
    "                        {'city': row['city_ascii'],\n",
    "                         'distance_from_home': city_distance}\n",
    "                    )\n",
    "\n",
    "    print('Successfully written output file at {}'.format(output_path))\n",
    "\n",
    "\n",
    "write_distance_file('Colombo', 'Sri Lanka', 'srilanka_distance.csv')"
   ]
  },
  {
   "cell_type": "code",
   "execution_count": null,
   "metadata": {},
   "outputs": [],
   "source": []
  }
 ],
 "metadata": {
  "kernelspec": {
   "display_name": "Python 3",
   "language": "python",
   "name": "python3"
  },
  "language_info": {
   "codemirror_mode": {
    "name": "ipython",
    "version": 3
   },
   "file_extension": ".py",
   "mimetype": "text/x-python",
   "name": "python",
   "nbconvert_exporter": "python",
   "pygments_lexer": "ipython3",
   "version": "3.7.7"
  }
 },
 "nbformat": 4,
 "nbformat_minor": 4
}
