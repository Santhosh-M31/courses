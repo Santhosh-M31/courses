{
 "cells": [
  {
   "cell_type": "code",
   "execution_count": 2,
   "metadata": {},
   "outputs": [
    {
     "name": "stdout",
     "output_type": "stream",
     "text": [
      "['../data/geonames/US.txt', '../data/geonames/MX.txt', '../data/geonames/CA.txt']\n"
     ]
    }
   ],
   "source": [
    "import os\n",
    "import pandas as pd\n",
    "import geopandas as gpd\n",
    "\n",
    "data_pkg_path = '../data/geonames/'\n",
    "files = os.listdir(data_pkg_path)\n",
    "\n",
    "filepaths = []\n",
    "for file in files:\n",
    "    filepaths.append(os.path.join(data_pkg_path, file))\n",
    "print(filepaths)\n"
   ]
  },
  {
   "cell_type": "code",
   "execution_count": 8,
   "metadata": {},
   "outputs": [
    {
     "name": "stdout",
     "output_type": "stream",
     "text": [
      "(225328, 20)\n",
      "(67134, 20)\n",
      "(57266, 20)\n"
     ]
    }
   ],
   "source": [
    "column_names = [\n",
    "    'geonameid', 'name', 'asciiname', 'alternatenames', \n",
    "    'latitude', 'longitude', 'feature class', 'feature code',\n",
    "    'country code', 'cc2', 'admin1 code', 'admin2 code',\n",
    "    'admin3 code', 'admin4 code', 'population', 'elevation',\n",
    "    'dem', 'timezone', 'modification date'\n",
    "]\n",
    "\n",
    "dataframes = []\n",
    "for filepath in filepaths:\n",
    "    df = pd.read_csv(filepath, sep='\\t', names=column_names)\n",
    "    mountains = df[df['feature class'] == 'T']\n",
    "    geometry = gpd.points_from_xy(mountains.longitude, mountains.latitude)\n",
    "    gdf = gpd.GeoDataFrame(mountains, crs='EPSG:4326', geometry=geometry)\n",
    "    print(gdf.shape)\n",
    "    dataframes.append(gdf)"
   ]
  },
  {
   "cell_type": "code",
   "execution_count": 9,
   "metadata": {},
   "outputs": [
    {
     "name": "stdout",
     "output_type": "stream",
     "text": [
      "(349728, 20)\n"
     ]
    }
   ],
   "source": [
    "merged = pd.concat(dataframes)\n",
    "print(merged.shape)"
   ]
  },
  {
   "cell_type": "code",
   "execution_count": 7,
   "metadata": {},
   "outputs": [
    {
     "name": "stdout",
     "output_type": "stream",
     "text": [
      "Successfully written output file at ../output/merged.gpkg\n"
     ]
    }
   ],
   "source": [
    "output_dir = '../output'\n",
    "output_filename = 'merged.gpkg'\n",
    "output_path = os.path.join(output_dir, output_filename)\n",
    "\n",
    "merged.to_file(driver='GPKG', filename=output_path, encoding='utf-8')\n",
    "print('Successfully written output file at {}'.format(output_path))"
   ]
  }
 ],
 "metadata": {
  "kernelspec": {
   "display_name": "Python 3",
   "language": "python",
   "name": "python3"
  },
  "language_info": {
   "codemirror_mode": {
    "name": "ipython",
    "version": 3
   },
   "file_extension": ".py",
   "mimetype": "text/x-python",
   "name": "python",
   "nbconvert_exporter": "python",
   "pygments_lexer": "ipython3",
   "version": "3.7.7"
  }
 },
 "nbformat": 4,
 "nbformat_minor": 4
}
