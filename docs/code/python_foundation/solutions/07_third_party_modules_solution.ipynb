{
 "cells": [
  {
   "cell_type": "code",
   "execution_count": 2,
   "metadata": {},
   "outputs": [
    {
     "name": "stdout",
     "output_type": "stream",
     "text": [
      "128.0170368659284 km 127.89977274647764 km\n"
     ]
    }
   ],
   "source": [
    "from geopy import distance\n",
    "\n",
    "bangalore = (12.9716, 77.5946)\n",
    "mysore = (12.2958, 76.6394)\n",
    "\n",
    "straight_line_distance = distance.great_circle(bangalore, mysore)\n",
    "ellipsoid_distance = distance.geodesic(bangalore, mysore, ellipsoid='WGS-84')\n",
    "\n",
    "print(straight_line_distance, ellipsoid_distance)"
   ]
  }
 ],
 "metadata": {
  "kernelspec": {
   "display_name": "Python 3",
   "language": "python",
   "name": "python3"
  },
  "language_info": {
   "codemirror_mode": {
    "name": "ipython",
    "version": 3
   },
   "file_extension": ".py",
   "mimetype": "text/x-python",
   "name": "python",
   "nbconvert_exporter": "python",
   "pygments_lexer": "ipython3",
   "version": "3.7.7"
  }
 },
 "nbformat": 4,
 "nbformat_minor": 4
}
