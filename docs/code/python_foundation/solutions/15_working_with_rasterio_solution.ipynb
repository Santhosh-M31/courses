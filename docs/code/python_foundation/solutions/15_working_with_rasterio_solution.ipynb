{
 "cells": [
  {
   "cell_type": "code",
   "execution_count": 2,
   "metadata": {},
   "outputs": [
    {
     "name": "stdout",
     "output_type": "stream",
     "text": [
      "8748\n"
     ]
    }
   ],
   "source": [
    "import rasterio\n",
    "import os\n",
    "import numpy as np\n",
    "\n",
    "output_filename = 'merged.tif'\n",
    "output_dir = '../output'\n",
    "output_path = os.path.join(output_dir, output_filename)\n",
    "dataset = rasterio.open(output_path)\n",
    "band1 = dataset.read(1)\n",
    "print(np.max(band1))"
   ]
  }
 ],
 "metadata": {
  "kernelspec": {
   "display_name": "Python 3",
   "language": "python",
   "name": "python3"
  },
  "language_info": {
   "codemirror_mode": {
    "name": "ipython",
    "version": 3
   },
   "file_extension": ".py",
   "mimetype": "text/x-python",
   "name": "python",
   "nbconvert_exporter": "python",
   "pygments_lexer": "ipython3",
   "version": "3.7.7"
  }
 },
 "nbformat": 4,
 "nbformat_minor": 4
}
