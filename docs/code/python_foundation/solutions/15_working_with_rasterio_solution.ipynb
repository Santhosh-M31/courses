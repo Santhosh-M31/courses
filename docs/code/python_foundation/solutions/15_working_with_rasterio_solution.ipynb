{
 "cells": [
  {
   "cell_type": "code",
   "execution_count": 4,
   "metadata": {},
   "outputs": [
    {
     "name": "stdout",
     "output_type": "stream",
     "text": [
      "[[[  4916   4926   4931 ...   5098   5089 -32768]\n",
      "  [  4919   4932   4928 ...   5075   5069 -32768]\n",
      "  [  4919   4928   4935 ...   5055   5048 -32768]\n",
      "  ...\n",
      "  [   364    364    362 ...   1930   1944 -32768]\n",
      "  [   360    359    357 ...   1930   1942 -32768]\n",
      "  [-32768 -32768 -32768 ... -32768 -32768 -32768]]]\n"
     ]
    }
   ],
   "source": [
    "import rasterio\n",
    "from rasterio import merge\n",
    "import numpy as np\n",
    "import os\n",
    "data_pkg_path = '../data'\n",
    "srtm_dir = 'srtm'\n",
    "srtm_path = os.path.join(data_pkg_path, 'srtm')\n",
    "all_files = os.listdir(srtm_path)\n",
    "dataset_list = []\n",
    "for file in all_files:\n",
    "    path = os.path.join(srtm_path, file)\n",
    "    dataset_list.append(rasterio.open(path))\n",
    "merged_result = merge.merge(dataset_list)\n",
    "merged_data = merged_result[0]\n",
    "print(merged_data)"
   ]
  },
  {
   "cell_type": "code",
   "execution_count": 5,
   "metadata": {},
   "outputs": [
    {
     "name": "stdout",
     "output_type": "stream",
     "text": [
      "8748\n"
     ]
    }
   ],
   "source": [
    "max_elev = np.max(merged_data)\n",
    "print(max_elev)"
   ]
  }
 ],
 "metadata": {
  "kernelspec": {
   "display_name": "Python 3",
   "language": "python",
   "name": "python3"
  },
  "language_info": {
   "codemirror_mode": {
    "name": "ipython",
    "version": 3
   },
   "file_extension": ".py",
   "mimetype": "text/x-python",
   "name": "python",
   "nbconvert_exporter": "python",
   "pygments_lexer": "ipython3",
   "version": "3.7.7"
  }
 },
 "nbformat": 4,
 "nbformat_minor": 4
}
