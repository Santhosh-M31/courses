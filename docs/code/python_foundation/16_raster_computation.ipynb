{
 "cells": [
  {
   "cell_type": "code",
   "execution_count": 65,
   "metadata": {},
   "outputs": [],
   "source": [
    "import os\n",
    "import rasterio\n",
    "import glob\n",
    "import numpy as np"
   ]
  },
  {
   "cell_type": "code",
   "execution_count": 66,
   "metadata": {},
   "outputs": [],
   "source": [
    "home_dir = os.path.expanduser('~')\n",
    "data_pkg_path = 'Downloads/python_foundation'\n",
    "sentinel2_dir = 'sentinel2'\n",
    "pattern = '*.jp2'\n",
    "\n",
    "path = os.path.join(home_dir, data_pkg_path, sentinel2_dir, pattern)\n",
    "files = glob.glob(path)"
   ]
  },
  {
   "cell_type": "code",
   "execution_count": 67,
   "metadata": {},
   "outputs": [
    {
     "data": {
      "text/plain": [
       "('/Users/ujaval/Downloads/python_foundation/sentinel2/T43PGQ_20200218T050851_B04.jp2',\n",
       " '/Users/ujaval/Downloads/python_foundation/sentinel2/T43PGQ_20200218T050851_B08.jp2')"
      ]
     },
     "execution_count": 67,
     "metadata": {},
     "output_type": "execute_result"
    }
   ],
   "source": [
    "red_band = 'B04'\n",
    "green_band = 'B03'\n",
    "blue_band = 'B02'\n",
    "nir_band = 'B08'\n",
    "for file in files:\n",
    "    if red_band in file:\n",
    "        red_band_file = file\n",
    "    if green_band in file:\n",
    "        green_band_file = file\n",
    "    if blue_band in file:\n",
    "        blue_band_file = file\n",
    "    if nir_band in file:\n",
    "        nir_band_file = file\n",
    "(red_band_file, nir_band_file)"
   ]
  },
  {
   "cell_type": "code",
   "execution_count": 68,
   "metadata": {},
   "outputs": [],
   "source": [
    "red_dataset = rasterio.open(red_band_file)\n",
    "green_dataset = rasterio.open(green_band_file)\n",
    "blue_dataset = rasterio.open(blue_band_file)\n",
    "nir_dataset = rasterio.open(nir_band_file)\n",
    "red = red_dataset.read(1)\n",
    "green = green_dataset.read(1)\n",
    "blue = blue_dataset.read(1)\n",
    "nir = nir_dataset.read(1)"
   ]
  },
  {
   "cell_type": "code",
   "execution_count": 69,
   "metadata": {},
   "outputs": [],
   "source": [
    "metadata = red_dataset.meta\n",
    "transform = red_dataset.transform\n",
    "metadata.update({'count':3})"
   ]
  },
  {
   "cell_type": "code",
   "execution_count": 70,
   "metadata": {},
   "outputs": [],
   "source": [
    "output_filename = 'rgb.jp2'\n",
    "output_dir = 'Downloads'\n",
    "output_path = os.path.join(home_dir, output_dir, output_filename)\n",
    "\n",
    "new_dataset = rasterio.open(output_path, 'w', \n",
    "                            **metadata)\n",
    "new_dataset.write(red, 1)\n",
    "new_dataset.write(green, 2)\n",
    "new_dataset.write(blue, 3)\n",
    "new_dataset.close()"
   ]
  },
  {
   "cell_type": "code",
   "execution_count": 72,
   "metadata": {},
   "outputs": [
    {
     "data": {
      "text/plain": [
       "array([[       nan,        nan,        nan, ..., 0.71678024, 0.71648164,\n",
       "        0.71259324],\n",
       "       [       nan,        nan,        nan, ..., 0.61104629, 0.69983884,\n",
       "        0.71975363],\n",
       "       [       nan,        nan,        nan, ..., 0.5365353 , 0.64309623,\n",
       "        0.5819135 ],\n",
       "       ...,\n",
       "       [0.54329609, 0.56717147, 0.52723638, ..., 0.61158711, 0.58892482,\n",
       "        0.56165443],\n",
       "       [0.55857078, 0.56413925, 0.54087737, ..., 0.60589922, 0.60695297,\n",
       "        0.58389262],\n",
       "       [0.57458315, 0.60047619, 0.58546366, ..., 0.62718763, 0.62841976,\n",
       "        0.57404521]])"
      ]
     },
     "execution_count": 72,
     "metadata": {},
     "output_type": "execute_result"
    }
   ],
   "source": []
  },
  {
   "cell_type": "code",
   "execution_count": 98,
   "metadata": {},
   "outputs": [],
   "source": [
    "red = red.astype('float32')\n",
    "nir = nir.astype('float32')"
   ]
  },
  {
   "cell_type": "code",
   "execution_count": null,
   "metadata": {},
   "outputs": [],
   "source": []
  },
  {
   "cell_type": "code",
   "execution_count": 78,
   "metadata": {},
   "outputs": [
    {
     "ename": "AttributeError",
     "evalue": "'numpy.ndarray' object has no attribute 'where'",
     "output_type": "error",
     "traceback": [
      "\u001b[0;31m---------------------------------------------------------------------------\u001b[0m",
      "\u001b[0;31mAttributeError\u001b[0m                            Traceback (most recent call last)",
      "\u001b[0;32m<ipython-input-78-46bf50437848>\u001b[0m in \u001b[0;36m<module>\u001b[0;34m\u001b[0m\n\u001b[1;32m      2\u001b[0m \u001b[0;34m\u001b[0m\u001b[0m\n\u001b[1;32m      3\u001b[0m \u001b[0mndvi\u001b[0m \u001b[0;34m=\u001b[0m \u001b[0;34m(\u001b[0m\u001b[0mnir\u001b[0m \u001b[0;34m-\u001b[0m \u001b[0mred\u001b[0m\u001b[0;34m)\u001b[0m \u001b[0;34m/\u001b[0m \u001b[0;34m(\u001b[0m\u001b[0mnir\u001b[0m \u001b[0;34m+\u001b[0m \u001b[0mred\u001b[0m\u001b[0;34m)\u001b[0m\u001b[0;34m\u001b[0m\u001b[0;34m\u001b[0m\u001b[0m\n\u001b[0;32m----> 4\u001b[0;31m \u001b[0mndvi\u001b[0m\u001b[0;34m.\u001b[0m\u001b[0mwhere\u001b[0m\u001b[0;34m(\u001b[0m\u001b[0mndvi\u001b[0m \u001b[0;34m>\u001b[0m \u001b[0;36m1\u001b[0m\u001b[0;34m)\u001b[0m\u001b[0;34m\u001b[0m\u001b[0;34m\u001b[0m\u001b[0m\n\u001b[0m",
      "\u001b[0;31mAttributeError\u001b[0m: 'numpy.ndarray' object has no attribute 'where'"
     ]
    }
   ],
   "source": [
    "np.seterr(divide='ignore', invalid='ignore')\n",
    "\n",
    "ndvi = (nir - red) / (nir + red)\n"
   ]
  },
  {
   "cell_type": "code",
   "execution_count": 93,
   "metadata": {},
   "outputs": [
    {
     "data": {
      "text/plain": [
       "(array([6992]), array([360]))"
      ]
     },
     "execution_count": 93,
     "metadata": {},
     "output_type": "execute_result"
    }
   ],
   "source": [
    "np.where(ndvi==100)"
   ]
  },
  {
   "cell_type": "code",
   "execution_count": 95,
   "metadata": {},
   "outputs": [
    {
     "data": {
      "text/plain": [
       "100.0"
      ]
     },
     "execution_count": 95,
     "metadata": {},
     "output_type": "execute_result"
    }
   ],
   "source": [
    "\n",
    "ndvi[6992][360]"
   ]
  },
  {
   "cell_type": "code",
   "execution_count": 76,
   "metadata": {},
   "outputs": [
    {
     "data": {
      "text/plain": [
       "{'driver': 'GTiff',\n",
       " 'dtype': 'float64',\n",
       " 'nodata': None,\n",
       " 'width': 10980,\n",
       " 'height': 10980,\n",
       " 'count': 1,\n",
       " 'crs': CRS.from_epsg(32643),\n",
       " 'transform': Affine(10.0, 0.0, 699960.0,\n",
       "        0.0, -10.0, 1500000.0)}"
      ]
     },
     "execution_count": 76,
     "metadata": {},
     "output_type": "execute_result"
    }
   ],
   "source": [
    "metadata = red_dataset.meta\n",
    "transform = red_dataset.transform\n",
    "metadata.update({'dtype': 'float64', 'driver': 'GTiff'})\n",
    "metadata"
   ]
  },
  {
   "cell_type": "code",
   "execution_count": 77,
   "metadata": {},
   "outputs": [],
   "source": [
    "output_filename = 'ndvi.tif'\n",
    "output_dir = 'Downloads'\n",
    "output_path = os.path.join(home_dir, output_dir, output_filename)\n",
    "\n",
    "new_dataset = rasterio.open(output_path, 'w', \n",
    "                            **metadata)\n",
    "new_dataset.write(ndvi, 1)\n",
    "new_dataset.close()"
   ]
  }
 ],
 "metadata": {
  "kernelspec": {
   "display_name": "Python 3",
   "language": "python",
   "name": "python3"
  },
  "language_info": {
   "codemirror_mode": {
    "name": "ipython",
    "version": 3
   },
   "file_extension": ".py",
   "mimetype": "text/x-python",
   "name": "python",
   "nbconvert_exporter": "python",
   "pygments_lexer": "ipython3",
   "version": "3.7.7"
  }
 },
 "nbformat": 4,
 "nbformat_minor": 4
}
