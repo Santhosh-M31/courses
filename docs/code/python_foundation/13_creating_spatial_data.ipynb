{
 "cells": [
  {
   "cell_type": "markdown",
   "metadata": {},
   "source": [
    "# Creating Spatial Data\n",
    "\n",
    "A common operation in spatial analysis is to take non-spatial data, such as CSV files, and creating a spatial dataset from it using coordinate information contained in the file. GeoPandas provides a convenient way to take data from a delimited-text file, create geometry and write the results as a spatial dataset.\n",
    "\n",
    "We will read a tab-delimited file of places, filter it to a feature class, create a GeoDataFrame and export it as a GeoPackage file."
   ]
  },
  {
   "cell_type": "code",
   "execution_count": 5,
   "metadata": {},
   "outputs": [],
   "source": [
    "import os\n",
    "import pandas as pd\n",
    "import geopandas as gpd"
   ]
  },
  {
   "cell_type": "code",
   "execution_count": 6,
   "metadata": {},
   "outputs": [],
   "source": [
    "data_pkg_path = 'data/geonames/'\n",
    "filename = 'US.txt'\n",
    "path = os.path.join(data_pkg_path, filename)"
   ]
  },
  {
   "cell_type": "markdown",
   "metadata": {},
   "source": [
    "## Reading Tab-Delimited Files\n",
    "\n",
    "The source data comes from [GeoNames](https://en.wikipedia.org/wiki/GeoNames) - a free and open database of geographic names of the world. It is a huge database containing millions of records per country. The data is distributed as country-level text files in a tab-delimited format. The files do not contain a header row with column names, so we need to specify them when reading the data. The data format is described in detail on the [Data Export](https://www.geonames.org/export/) page.\n",
    "\n",
    "We specify the separator as **\\\\t** (tab) as an argument to the `read_csv()` method. Note that the file for USA has more than 2M records."
   ]
  },
  {
   "cell_type": "code",
   "execution_count": 7,
   "metadata": {},
   "outputs": [
    {
     "name": "stderr",
     "output_type": "stream",
     "text": [
      "C:\\Users\\ujaval\\anaconda3\\envs\\python_foundation\\lib\\site-packages\\IPython\\core\\interactiveshell.py:3063: DtypeWarning: Columns (9,11) have mixed types.Specify dtype option on import or set low_memory=False.\n",
      "  interactivity=interactivity, compiler=compiler, result=result)\n"
     ]
    },
    {
     "name": "stdout",
     "output_type": "stream",
     "text": [
      "<class 'pandas.core.frame.DataFrame'>\n",
      "RangeIndex: 2237861 entries, 0 to 2237860\n",
      "Data columns (total 19 columns):\n",
      " #   Column             Dtype  \n",
      "---  ------             -----  \n",
      " 0   geonameid          int64  \n",
      " 1   name               object \n",
      " 2   asciiname          object \n",
      " 3   alternatenames     object \n",
      " 4   latitude           float64\n",
      " 5   longitude          float64\n",
      " 6   feature class      object \n",
      " 7   feature code       object \n",
      " 8   country code       object \n",
      " 9   cc2                object \n",
      " 10  admin1 code        object \n",
      " 11  admin2 code        object \n",
      " 12  admin3 code        float64\n",
      " 13  admin4 code        float64\n",
      " 14  population         int64  \n",
      " 15  elevation          float64\n",
      " 16  dem                int64  \n",
      " 17  timezone           object \n",
      " 18  modification date  object \n",
      "dtypes: float64(5), int64(3), object(11)\n",
      "memory usage: 324.4+ MB\n",
      "None\n"
     ]
    }
   ],
   "source": [
    "column_names = [\n",
    "    'geonameid', 'name', 'asciiname', 'alternatenames', \n",
    "    'latitude', 'longitude', 'feature class', 'feature code',\n",
    "    'country code', 'cc2', 'admin1 code', 'admin2 code',\n",
    "    'admin3 code', 'admin4 code', 'population', 'elevation',\n",
    "    'dem', 'timezone', 'modification date'\n",
    "]\n",
    "\n",
    "df = pd.read_csv(path, sep='\\t', names=column_names)\n",
    "print(df.info())"
   ]
  },
  {
   "cell_type": "markdown",
   "metadata": {},
   "source": [
    "## Filtering Data\n",
    "\n",
    "The input data as a column `feature_class` categorizing the place into [9 feature classes](https://www.geonames.org/export/codes.html). We can select all rows with the value `T` with the category  *mountain,hill,rock...*"
   ]
  },
  {
   "cell_type": "code",
   "execution_count": 8,
   "metadata": {},
   "outputs": [
    {
     "name": "stdout",
     "output_type": "stream",
     "text": [
      "                 name  latitude  longitude   dem feature class\n",
      "15       Vulcan Point  52.10222  177.53889 -9999             T\n",
      "16     Tropical Ridge  51.99167  177.50833   267             T\n",
      "17  Thirty-Seven Hill  52.84528  173.15278   193             T\n",
      "20       Square Point  52.86120  173.33679    30             T\n",
      "21       Square Bluff  51.65000  178.70000 -9999             T\n"
     ]
    }
   ],
   "source": [
    "mountains = df[df['feature class']=='T']\n",
    "print(mountains.head()[['name', 'latitude', 'longitude', 'dem','feature class']])"
   ]
  },
  {
   "cell_type": "markdown",
   "metadata": {},
   "source": [
    "## Creating Geometries\n",
    "\n",
    "GeoPandas has a conveinent function `points_from_xy()` that creates a Geometry column from X and Y coordinates. We can then take a Pandas dataframe and create a GeoDataFrame by specifying a CRS and the geometry column."
   ]
  },
  {
   "cell_type": "code",
   "execution_count": 9,
   "metadata": {},
   "outputs": [
    {
     "name": "stdout",
     "output_type": "stream",
     "text": [
      "<class 'geopandas.geodataframe.GeoDataFrame'>\n",
      "Int64Index: 225328 entries, 15 to 2237836\n",
      "Data columns (total 20 columns):\n",
      " #   Column             Non-Null Count   Dtype   \n",
      "---  ------             --------------   -----   \n",
      " 0   geonameid          225328 non-null  int64   \n",
      " 1   name               225328 non-null  object  \n",
      " 2   asciiname          225328 non-null  object  \n",
      " 3   alternatenames     30933 non-null   object  \n",
      " 4   latitude           225328 non-null  float64 \n",
      " 5   longitude          225328 non-null  float64 \n",
      " 6   feature class      225328 non-null  object  \n",
      " 7   feature code       225328 non-null  object  \n",
      " 8   country code       225328 non-null  object  \n",
      " 9   cc2                5 non-null       object  \n",
      " 10  admin1 code        225327 non-null  object  \n",
      " 11  admin2 code        225170 non-null  object  \n",
      " 12  admin3 code        21646 non-null   float64 \n",
      " 13  admin4 code        0 non-null       float64 \n",
      " 14  population         225328 non-null  int64   \n",
      " 15  elevation          224417 non-null  float64 \n",
      " 16  dem                225328 non-null  int64   \n",
      " 17  timezone           225273 non-null  object  \n",
      " 18  modification date  225328 non-null  object  \n",
      " 19  geometry           225328 non-null  geometry\n",
      "dtypes: float64(5), geometry(1), int64(3), object(11)\n",
      "memory usage: 36.1+ MB\n",
      "None\n"
     ]
    }
   ],
   "source": [
    "geometry = gpd.points_from_xy(mountains.longitude, mountains.latitude)\n",
    "gdf = gpd.GeoDataFrame(mountains, crs='EPSG:4326', geometry=geometry)\n",
    "print(gdf.info())"
   ]
  },
  {
   "cell_type": "markdown",
   "metadata": {},
   "source": [
    "## Writing Files\n",
    "\n",
    "We can write the resulting GeoDataFrame to any of the supported vector data format. Here we are writing it as a new GeoPackage file."
   ]
  },
  {
   "cell_type": "markdown",
   "metadata": {},
   "source": [
    "You can open the resulting geopackage in a GIS and view the data.\n",
    "\n",
    "![](https://courses.spatialthoughts.com/images/python_foundation/geonames_mountains.png)"
   ]
  },
  {
   "cell_type": "code",
   "execution_count": 10,
   "metadata": {},
   "outputs": [],
   "source": [
    "output_dir = 'output'\n",
    "output_filename = 'mountains.gpkg'\n",
    "output_path = os.path.join(output_dir, output_filename)\n",
    "\n",
    "gdf.to_file(driver='GPKG', filename=output_path, encoding='utf-8')"
   ]
  },
  {
   "cell_type": "markdown",
   "metadata": {},
   "source": [
    "## Exercise\n",
    "\n",
    "The data package contains multiple geonames text files from different countries in the `geonames/` folder. Write code to read all the files, merge them and extract the mountain features to a single geopackage.\n",
    "\n",
    "- Hint1: Use the `os.listdir()` method to get all files in a directory.\n",
    "- Hint2: Use the Pandas method `concat()` to merge multiple dataframes."
   ]
  },
  {
   "cell_type": "markdown",
   "metadata": {},
   "source": [
    "----"
   ]
  }
 ],
 "metadata": {
  "kernelspec": {
   "display_name": "Python 3",
   "language": "python",
   "name": "python3"
  },
  "language_info": {
   "codemirror_mode": {
    "name": "ipython",
    "version": 3
   },
   "file_extension": ".py",
   "mimetype": "text/x-python",
   "name": "python",
   "nbconvert_exporter": "python",
   "pygments_lexer": "ipython3",
   "version": "3.7.7"
  }
 },
 "nbformat": 4,
 "nbformat_minor": 4
}
