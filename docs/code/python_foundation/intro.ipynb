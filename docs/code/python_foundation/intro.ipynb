{
 "cells": [
  {
   "cell_type": "code",
   "execution_count": 16,
   "metadata": {},
   "outputs": [],
   "source": [
    "import os\n",
    "import rasterio\n",
    "import numpy as np\n",
    "from numpy import random"
   ]
  },
  {
   "cell_type": "code",
   "execution_count": 4,
   "metadata": {},
   "outputs": [
    {
     "name": "stdout",
     "output_type": "stream",
     "text": [
      "/Users/ujaval/Downloads/python_foundation/demo.jp2\n"
     ]
    }
   ],
   "source": [
    "home_dir = os.path.expanduser('~')\n",
    "data_pkg_path = 'Downloads/python_foundation'\n",
    "filename = 'demo.jp2'\n",
    "\n",
    "path = os.path.join(home_dir, data_pkg_path, filename)\n",
    "print(path)"
   ]
  },
  {
   "cell_type": "code",
   "execution_count": 5,
   "metadata": {},
   "outputs": [],
   "source": [
    "dataset = rasterio.open(path)"
   ]
  },
  {
   "cell_type": "code",
   "execution_count": 6,
   "metadata": {},
   "outputs": [
    {
     "data": {
      "text/plain": [
       "{'driver': 'JP2OpenJPEG',\n",
       " 'dtype': 'uint8',\n",
       " 'nodata': None,\n",
       " 'width': 5000,\n",
       " 'height': 5000,\n",
       " 'count': 3,\n",
       " 'crs': CRS.from_epsg(26910),\n",
       " 'transform': Affine(0.5999999999999999, 0.0, 554028.0,\n",
       "        0.0, -0.6000000005999999, 4246325.999943)}"
      ]
     },
     "execution_count": 6,
     "metadata": {},
     "output_type": "execute_result"
    }
   ],
   "source": [
    "dataset.meta"
   ]
  },
  {
   "cell_type": "code",
   "execution_count": 7,
   "metadata": {},
   "outputs": [],
   "source": [
    "red = dataset.read(1)"
   ]
  },
  {
   "cell_type": "code",
   "execution_count": 9,
   "metadata": {},
   "outputs": [
    {
     "data": {
      "text/plain": [
       "(5000, 5000)"
      ]
     },
     "execution_count": 9,
     "metadata": {},
     "output_type": "execute_result"
    }
   ],
   "source": [
    "red.shape"
   ]
  },
  {
   "cell_type": "code",
   "execution_count": 24,
   "metadata": {},
   "outputs": [],
   "source": [
    "x = random.randint(100, size=(5000))\n",
    "zeros = np.where(x==10)"
   ]
  },
  {
   "cell_type": "code",
   "execution_count": 25,
   "metadata": {},
   "outputs": [
    {
     "data": {
      "text/plain": [
       "(array([  86,  214,  242,  463,  565,  647,  703,  712,  797, 1034, 1103,\n",
       "        1213, 1460, 1613, 1734, 1933, 2050, 2052, 2112, 2137, 2225, 2256,\n",
       "        2370, 2469, 2596, 2744, 2885, 2893, 2988, 3063, 3137, 3232, 3331,\n",
       "        3376, 3528, 3583, 3629, 3654, 3686, 3782, 3792, 3827, 3891, 3947,\n",
       "        3968, 4001, 4192, 4232, 4438, 4588, 4604, 4652, 4683, 4771, 4829,\n",
       "        4870]),)"
      ]
     },
     "execution_count": 25,
     "metadata": {},
     "output_type": "execute_result"
    }
   ],
   "source": [
    "zeros"
   ]
  },
  {
   "cell_type": "code",
   "execution_count": 75,
   "metadata": {},
   "outputs": [
    {
     "data": {
      "text/plain": [
       "array([[ 1,  3,  4,  2],\n",
       "       [ 3,  5,  7,  8],\n",
       "       [ 0,  0,  0,  0],\n",
       "       [ 5,  0,  6,  8],\n",
       "       [ 0,  0,  0,  0],\n",
       "       [10,  3,  5,  6]])"
      ]
     },
     "execution_count": 75,
     "metadata": {},
     "output_type": "execute_result"
    }
   ],
   "source": [
    "grid = np.array([[ 1, 3, 4, 2],\n",
    "                [3, 5, 7, 8],\n",
    "                [0, 0, 0, 0],\n",
    "                [5, 0, 6, 8],\n",
    "                [0, 0, 0, 0],\n",
    "                [10, 3, 5, 6]])\n",
    "grid"
   ]
  },
  {
   "cell_type": "code",
   "execution_count": 28,
   "metadata": {},
   "outputs": [
    {
     "ename": "NameError",
     "evalue": "name 'grid' is not defined",
     "output_type": "error",
     "traceback": [
      "\u001b[0;31m---------------------------------------------------------------------------\u001b[0m",
      "\u001b[0;31mNameError\u001b[0m                                 Traceback (most recent call last)",
      "\u001b[0;32m<ipython-input-28-91e86b6369f8>\u001b[0m in \u001b[0;36m<module>\u001b[0;34m\u001b[0m\n\u001b[0;32m----> 1\u001b[0;31m \u001b[0midx\u001b[0m \u001b[0;34m=\u001b[0m \u001b[0mnp\u001b[0m\u001b[0;34m.\u001b[0m\u001b[0margwhere\u001b[0m\u001b[0;34m(\u001b[0m\u001b[0mnp\u001b[0m\u001b[0;34m.\u001b[0m\u001b[0mall\u001b[0m\u001b[0;34m(\u001b[0m\u001b[0mgrid\u001b[0m \u001b[0;34m==\u001b[0m \u001b[0;36m0\u001b[0m\u001b[0;34m,\u001b[0m \u001b[0maxis\u001b[0m\u001b[0;34m=\u001b[0m\u001b[0;36m1\u001b[0m\u001b[0;34m)\u001b[0m\u001b[0;34m)\u001b[0m\u001b[0;34m\u001b[0m\u001b[0;34m\u001b[0m\u001b[0m\n\u001b[0m",
      "\u001b[0;31mNameError\u001b[0m: name 'grid' is not defined"
     ]
    }
   ],
   "source": [
    "idx = np.argwhere(np.all(grid == 0, axis=1))\n"
   ]
  }
 ],
 "metadata": {
  "kernelspec": {
   "display_name": "Python 3",
   "language": "python",
   "name": "python3"
  },
  "language_info": {
   "codemirror_mode": {
    "name": "ipython",
    "version": 3
   },
   "file_extension": ".py",
   "mimetype": "text/x-python",
   "name": "python",
   "nbconvert_exporter": "python",
   "pygments_lexer": "ipython3",
   "version": "3.7.7"
  }
 },
 "nbformat": 4,
 "nbformat_minor": 4
}
