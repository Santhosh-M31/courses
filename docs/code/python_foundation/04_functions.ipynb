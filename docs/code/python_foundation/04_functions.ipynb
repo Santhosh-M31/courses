{
 "cells": [
  {
   "cell_type": "markdown",
   "metadata": {},
   "source": [
    "# Functions\n",
    "\n",
    "```\n",
    "def my_function():\n",
    "    ....\n",
    "    ....\n",
    "    return something\n",
    "```"
   ]
  },
  {
   "cell_type": "code",
   "execution_count": 3,
   "metadata": {},
   "outputs": [
    {
     "name": "stdout",
     "output_type": "stream",
     "text": [
      "Hello World\n"
     ]
    }
   ],
   "source": [
    "def greet(name):\n",
    "    return 'Hello ' + name\n",
    "\n",
    "print(greet('World'))"
   ]
  },
  {
   "cell_type": "markdown",
   "metadata": {},
   "source": [
    "## Exercise\n",
    "\n",
    "Functions can take multiple arguments. Let's write a function to convert coordinates from degrees, minutes, seconds to decimal degrees. This conversion is needed quite often when working with data collected from GPS devices.\n",
    "\n",
    "- 1 degree is equal to 60 minutes\n",
    "- 1 minute is equal to 60 seconds (3600 seconds)\n",
    "\n",
    "To calculate decimal degrees, we can use the formula below:\n",
    "Decimal Degrees = degrees + (minutes/60) + (seconds/3600)\n",
    "\n",
    "Delete the `pass` statement and replace it with the code for the formula. If the code is correct, you should see the result 37.773972 -121.568703"
   ]
  },
  {
   "cell_type": "code",
   "execution_count": 4,
   "metadata": {},
   "outputs": [
    {
     "name": "stdout",
     "output_type": "stream",
     "text": [
      "None None\n"
     ]
    }
   ],
   "source": [
    "latitude = (37, 46, 26.2992)\n",
    "longitude = (-122, 25, 52.6692)\n",
    "\n",
    "def dms_to_decimal(degrees, minutes, seconds):\n",
    "    pass\n",
    "\n",
    "lat_decimal = dms_to_decimal(latitude[0], latitude[1], latitude[2])\n",
    "lon_decimal = dms_to_decimal(longitude[0], longitude[1], longitude[2])\n",
    "print(lat_decimal, lon_decimal)"
   ]
  },
  {
   "cell_type": "code",
   "execution_count": null,
   "metadata": {},
   "outputs": [],
   "source": []
  }
 ],
 "metadata": {
  "kernelspec": {
   "display_name": "Python 3",
   "language": "python",
   "name": "python3"
  },
  "language_info": {
   "codemirror_mode": {
    "name": "ipython",
    "version": 3
   },
   "file_extension": ".py",
   "mimetype": "text/x-python",
   "name": "python",
   "nbconvert_exporter": "python",
   "pygments_lexer": "ipython3",
   "version": "3.7.7"
  }
 },
 "nbformat": 4,
 "nbformat_minor": 4
}
