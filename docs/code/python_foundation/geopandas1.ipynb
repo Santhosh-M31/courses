{
 "cells": [
  {
   "cell_type": "markdown",
   "metadata": {},
   "source": [
    "conda create --name python_foundation\n",
    "conda activate python_foundation\n",
    "conda install geopandas"
   ]
  },
  {
   "cell_type": "code",
   "execution_count": 6,
   "metadata": {},
   "outputs": [],
   "source": [
    "import os\n",
    "import pandas as pd\n",
    "from geopandas import GeoDataFrame\n",
    "from shapely.geometry import Point"
   ]
  },
  {
   "cell_type": "code",
   "execution_count": 8,
   "metadata": {},
   "outputs": [
    {
     "name": "stdout",
     "output_type": "stream",
     "text": [
      "/Users/ujaval/Downloads/python_geospatial/worldcities.csv\n"
     ]
    }
   ],
   "source": [
    "home_dir = os.path.expanduser('~')\n",
    "filename = 'worldcities.csv'\n",
    "folder = 'Downloads/python_geospatial/'\n",
    "path = os.path.join(home_dir, folder, filename)\n",
    "print(path)"
   ]
  },
  {
   "cell_type": "code",
   "execution_count": 18,
   "metadata": {},
   "outputs": [],
   "source": [
    "df = pd.read_csv(path)\n",
    "\n",
    "geometry = [Point(xy) for xy in zip(df.lng, df.lat)]\n",
    "crs = {'init': 'epsg:4326'}\n",
    "gdf = GeoDataFrame(df, crs=crs, geometry=geometry)\n",
    "\n",
    "output_filename = 'cities.shp'\n",
    "output_path = os.path.join(home_dir, folder, output_filename)\n",
    "\n",
    "gdf.to_file(driver='ESRI Shapefile', filename=output_path, encoding='utf-8')\n",
    "\n",
    "output_filename = 'cities.gpkg'\n",
    "output_path = os.path.join(home_dir, folder, output_filename)\n",
    "\n",
    "gdf.to_file(driver='GPKG', filename=output_path, encoding='utf-8')"
   ]
  },
  {
   "cell_type": "code",
   "execution_count": null,
   "metadata": {},
   "outputs": [],
   "source": []
  }
 ],
 "metadata": {
  "kernelspec": {
   "display_name": "Python 3",
   "language": "python",
   "name": "python3"
  },
  "language_info": {
   "codemirror_mode": {
    "name": "ipython",
    "version": 3
   },
   "file_extension": ".py",
   "mimetype": "text/x-python",
   "name": "python",
   "nbconvert_exporter": "python",
   "pygments_lexer": "ipython3",
   "version": "3.7.7"
  }
 },
 "nbformat": 4,
 "nbformat_minor": 4
}
