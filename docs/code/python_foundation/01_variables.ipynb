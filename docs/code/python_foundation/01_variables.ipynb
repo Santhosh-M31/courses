{
 "cells": [
  {
   "cell_type": "markdown",
   "metadata": {},
   "source": [
    "# Variables"
   ]
  },
  {
   "cell_type": "markdown",
   "metadata": {},
   "source": [
    "## Strings"
   ]
  },
  {
   "cell_type": "markdown",
   "metadata": {},
   "source": [
    "A string is a sequence of letters, numbers, and punctuation marks - or commonly known as **text**\n",
    "\n",
    "In Python you can create a string by typing letters between single or double quotation marks."
   ]
  },
  {
   "cell_type": "code",
   "execution_count": 11,
   "metadata": {},
   "outputs": [
    {
     "name": "stdout",
     "output_type": "stream",
     "text": [
      "San Fransico California\n"
     ]
    }
   ],
   "source": [
    "city = 'San Fransico'\n",
    "state = 'California'\n",
    "print(city, state)"
   ]
  },
  {
   "cell_type": "code",
   "execution_count": 12,
   "metadata": {},
   "outputs": [
    {
     "name": "stdout",
     "output_type": "stream",
     "text": [
      "San FransicoCalifornia\n"
     ]
    }
   ],
   "source": [
    "print(city + state)"
   ]
  },
  {
   "cell_type": "code",
   "execution_count": 13,
   "metadata": {},
   "outputs": [
    {
     "name": "stdout",
     "output_type": "stream",
     "text": [
      "San Fransico,California\n"
     ]
    }
   ],
   "source": [
    "print(city + ',' + state)"
   ]
  },
  {
   "cell_type": "markdown",
   "metadata": {},
   "source": [
    "## Numbers\n",
    "\n",
    "Python can handle several types of numbers, but the two most common are:\n",
    "\n",
    "- **int**, which represents integer values like 100, and\n",
    "- **float**, which represents numbers that have a fraction part, like 0.5\n"
   ]
  },
  {
   "cell_type": "code",
   "execution_count": 14,
   "metadata": {},
   "outputs": [],
   "source": [
    "population = 881549\n",
    "latitude = 37.7739\n",
    "longitude = -121.5687"
   ]
  },
  {
   "cell_type": "code",
   "execution_count": 15,
   "metadata": {},
   "outputs": [
    {
     "name": "stdout",
     "output_type": "stream",
     "text": [
      "<class 'int'>\n"
     ]
    }
   ],
   "source": [
    "print(type(population))"
   ]
  },
  {
   "cell_type": "code",
   "execution_count": 16,
   "metadata": {},
   "outputs": [
    {
     "name": "stdout",
     "output_type": "stream",
     "text": [
      "<class 'float'>\n"
     ]
    }
   ],
   "source": [
    "print(type(latitude))"
   ]
  },
  {
   "cell_type": "code",
   "execution_count": 17,
   "metadata": {},
   "outputs": [
    {
     "name": "stdout",
     "output_type": "stream",
     "text": [
      "284.6832\n"
     ]
    }
   ],
   "source": [
    "elevation_feet = 934\n",
    "elevation_meters = elevation_feet * 0.3048\n",
    "print(elevation_meters)"
   ]
  },
  {
   "cell_type": "code",
   "execution_count": 18,
   "metadata": {},
   "outputs": [
    {
     "name": "stdout",
     "output_type": "stream",
     "text": [
      "18800.362550650458\n"
     ]
    }
   ],
   "source": [
    "area_sqmi = 46.89\n",
    "density = population / area_sqmi\n",
    "print(density)"
   ]
  },
  {
   "cell_type": "markdown",
   "metadata": {},
   "source": [
    "## Exercise\n",
    "\n",
    "We calculated the population density in number of people per square mile. Calculate and print the density in number of people per square kilometers.\n",
    "\n",
    "- Hint1: 1 mile = 1.60934 kilometers\n",
    "- Hint2: To calculate exponential of a number in Python, you use the ** notation. x² is written as x**2\n",
    "\n",
    "Create a code cell below this one, type in the code and run the cell. The output should be 7258.8966"
   ]
  },
  {
   "cell_type": "code",
   "execution_count": null,
   "metadata": {},
   "outputs": [],
   "source": []
  },
  {
   "cell_type": "code",
   "execution_count": null,
   "metadata": {},
   "outputs": [],
   "source": []
  }
 ],
 "metadata": {
  "kernelspec": {
   "display_name": "Python 3",
   "language": "python",
   "name": "python3"
  },
  "language_info": {
   "codemirror_mode": {
    "name": "ipython",
    "version": 3
   },
   "file_extension": ".py",
   "mimetype": "text/x-python",
   "name": "python",
   "nbconvert_exporter": "python",
   "pygments_lexer": "ipython3",
   "version": "3.7.7"
  }
 },
 "nbformat": 4,
 "nbformat_minor": 4
}
