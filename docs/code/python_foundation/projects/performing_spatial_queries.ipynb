{
 "cells": [
  {
   "cell_type": "code",
   "execution_count": 57,
   "metadata": {},
   "outputs": [],
   "source": [
    "# find out all bars and pubs within 500 meters of a metro station in Australia\n",
    "import pandas as pd\n",
    "import geopandas as gpd\n",
    "\n",
    "csv_file = 'Bars_and_pubs__with_patron_capacity.csv'\n",
    "barspubs_df = pd.read_csv(csvPath) \n",
    "\n",
    "barspubs_gdf = gpd.GeoDataFrame(\n",
    "    barspubs_df, geometry=gpd.points_from_xy(barspubs_df['x coordinate'],barspubs_df['y coordinate']))\n",
    "barspubs_gdf.crs = 'EPSG:4326'\n",
    "barspubs_gdf_reprojected = barspubs_gdf.to_crs('EPSG:7855')\n",
    "\n",
    "metrostations_gdf = gpd.read_file('zip://metro_stations_accessbility.zip', layer = 'metro_stations_accessbility')\n",
    "metrostations_gdf_reprojected = metrostations_gdf.to_crs('EPSG:7855')\n"
   ]
  },
  {
   "cell_type": "code",
   "execution_count": 58,
   "metadata": {},
   "outputs": [],
   "source": [
    "# Set the buffer radius of 500m. EPSG:7855 is in meters\n",
    "radius = 500\n",
    "\n",
    "# We match QGIS's default buffer parameters\n",
    "# https://shapely.readthedocs.io/en/latest/manual.html#constructive-methods\n",
    "metrostations_gdf_reprojected['geometry'] = metrostations_gdf_reprojected.buffer(\n",
    "    radius, resolution=5, cap_style=1, join_style=1, mitre_limit=2)\n",
    "\n",
    "# As we want to do a spatial join, we need to dissolve the resulting buffers\n",
    "# Otherwise we will get 1 feature for every intersecting buffer\n",
    "\n",
    "# Create a new field with a value of 1, so we can simular a 'Dissolve All'\n",
    "metrostations_gdf_reprojected['dissolvefield'] = 1\n",
    "\n",
    "dissolved_buffers = metrostations_gdf_reprojected.dissolve(by='dissolvefield')"
   ]
  },
  {
   "cell_type": "code",
   "execution_count": 59,
   "metadata": {},
   "outputs": [
    {
     "data": {
      "text/plain": [
       "(2147, 17)"
      ]
     },
     "execution_count": 59,
     "metadata": {},
     "output_type": "execute_result"
    }
   ],
   "source": [
    "# Now we do a spatial join. Select 'inner' join so we get all pubs intersecting buffers\n",
    "watering_holes = gpd.sjoin(barspubs_gdf_reprojected, dissolved_buffers, how='inner', op='intersects')\n",
    "watering_holes.shape"
   ]
  },
  {
   "cell_type": "code",
   "execution_count": 61,
   "metadata": {},
   "outputs": [],
   "source": [
    "output_file = 'watering_holes.gpkg'\n",
    "watering_holes.to_file(driver='GPKG', filename=output_file, encoding='utf-8')"
   ]
  }
 ],
 "metadata": {
  "kernelspec": {
   "display_name": "Python 3",
   "language": "python",
   "name": "python3"
  },
  "language_info": {
   "codemirror_mode": {
    "name": "ipython",
    "version": 3
   },
   "file_extension": ".py",
   "mimetype": "text/x-python",
   "name": "python",
   "nbconvert_exporter": "python",
   "pygments_lexer": "ipython3",
   "version": "3.7.7"
  }
 },
 "nbformat": 4,
 "nbformat_minor": 4
}
